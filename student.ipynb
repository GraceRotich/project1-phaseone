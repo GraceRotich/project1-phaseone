{
 "cells": [
  {
   "cell_type": "markdown",
   "metadata": {},
   "source": [
    "## Final Project Submission\n",
    "\n",
    "Please fill out:\n",
    "* Student name: Grace Jepchumba Rotich\n",
    "* Student pace:  full time\n",
    "* Scheduled project review date/time: Friday 1600hrs\n",
    "* Instructor name: Diana Mongina\n",
    "* Blog post URL: https://github.com/GraceRotich/project1-phaseone\n"
   ]
  },
  {
   "cell_type": "markdown",
   "metadata": {},
   "source": []
  },
  {
   "cell_type": "markdown",
   "metadata": {},
   "source": [
    "Imported necessary libraries and modules."
   ]
  },
  {
   "cell_type": "code",
   "execution_count": 83,
   "metadata": {},
   "outputs": [],
   "source": [
    "import pandas as pd\n",
    "import numpy as np\n",
    "import matplotlib.pyplot as plt \n",
    "import seaborn as sns\n",
    "import sqlite3"
   ]
  },
  {
   "cell_type": "markdown",
   "metadata": {},
   "source": [
    "Using Panadas to read from the bom.movie_gross.csv file and check out the columns to understand the data."
   ]
  },
  {
   "cell_type": "code",
   "execution_count": 84,
   "metadata": {},
   "outputs": [
    {
     "name": "stdout",
     "output_type": "stream",
     "text": [
      "<class 'pandas.core.frame.DataFrame'>\n",
      "RangeIndex: 3387 entries, 0 to 3386\n",
      "Data columns (total 5 columns):\n",
      " #   Column          Non-Null Count  Dtype  \n",
      "---  ------          --------------  -----  \n",
      " 0   title           3387 non-null   object \n",
      " 1   studio          3382 non-null   object \n",
      " 2   domestic_gross  3359 non-null   float64\n",
      " 3   foreign_gross   2037 non-null   object \n",
      " 4   year            3387 non-null   int64  \n",
      "dtypes: float64(1), int64(1), object(3)\n",
      "memory usage: 132.4+ KB\n"
     ]
    }
   ],
   "source": [
    "bom_movie = pd.read_csv('Data/bom.movie_gross.csv')\n",
    "bom_movie.info()"
   ]
  },
  {
   "cell_type": "markdown",
   "metadata": {},
   "source": [
    "This provides an overview of the DataFrame's structure, including the number of entries, columns, their names, data types, and memory usage. It's helpful for understanding the dataset's composition and characteristics at a glance.\n"
   ]
  },
  {
   "cell_type": "markdown",
   "metadata": {},
   "source": [
    "Inorder to access the imdb file which is a sql database, a connection is created using the Sqlite3 module. Also utilizes the pd.read_sql() function from the pandas library to execute a SQL query against an SQLite database. \n"
   ]
  },
  {
   "cell_type": "code",
   "execution_count": 85,
   "metadata": {},
   "outputs": [
    {
     "data": {
      "text/html": [
       "<div>\n",
       "<style scoped>\n",
       "    .dataframe tbody tr th:only-of-type {\n",
       "        vertical-align: middle;\n",
       "    }\n",
       "\n",
       "    .dataframe tbody tr th {\n",
       "        vertical-align: top;\n",
       "    }\n",
       "\n",
       "    .dataframe thead th {\n",
       "        text-align: right;\n",
       "    }\n",
       "</style>\n",
       "<table border=\"1\" class=\"dataframe\">\n",
       "  <thead>\n",
       "    <tr style=\"text-align: right;\">\n",
       "      <th></th>\n",
       "      <th>name</th>\n",
       "    </tr>\n",
       "  </thead>\n",
       "  <tbody>\n",
       "    <tr>\n",
       "      <th>0</th>\n",
       "      <td>movie_basics</td>\n",
       "    </tr>\n",
       "    <tr>\n",
       "      <th>1</th>\n",
       "      <td>directors</td>\n",
       "    </tr>\n",
       "    <tr>\n",
       "      <th>2</th>\n",
       "      <td>known_for</td>\n",
       "    </tr>\n",
       "    <tr>\n",
       "      <th>3</th>\n",
       "      <td>movie_akas</td>\n",
       "    </tr>\n",
       "    <tr>\n",
       "      <th>4</th>\n",
       "      <td>movie_ratings</td>\n",
       "    </tr>\n",
       "    <tr>\n",
       "      <th>5</th>\n",
       "      <td>persons</td>\n",
       "    </tr>\n",
       "    <tr>\n",
       "      <th>6</th>\n",
       "      <td>principals</td>\n",
       "    </tr>\n",
       "    <tr>\n",
       "      <th>7</th>\n",
       "      <td>writers</td>\n",
       "    </tr>\n",
       "  </tbody>\n",
       "</table>\n",
       "</div>"
      ],
      "text/plain": [
       "            name\n",
       "0   movie_basics\n",
       "1      directors\n",
       "2      known_for\n",
       "3     movie_akas\n",
       "4  movie_ratings\n",
       "5        persons\n",
       "6     principals\n",
       "7        writers"
      ]
     },
     "execution_count": 85,
     "metadata": {},
     "output_type": "execute_result"
    }
   ],
   "source": [
    "conn = sqlite3.connect('./Data/im.db')\n",
    "pd.read_sql(\"\"\"\n",
    "            SELECT name \n",
    "            FROM sqlite_master \n",
    "            WHERE type='table';\n",
    "\"\"\", conn)"
   ]
  },
  {
   "cell_type": "markdown",
   "metadata": {},
   "source": [
    "# **Data Presentation**\n"
   ]
  },
  {
   "cell_type": "markdown",
   "metadata": {},
   "source": [
    "\n",
    "<img src=\"Images\\datapresentation.png\" alt=\"in image folder\" style=\"width:800px;height:400px;\">\n"
   ]
  },
  {
   "cell_type": "code",
   "execution_count": 86,
   "metadata": {},
   "outputs": [
    {
     "name": "stdout",
     "output_type": "stream",
     "text": [
      "<class 'pandas.core.frame.DataFrame'>\n",
      "RangeIndex: 3387 entries, 0 to 3386\n",
      "Data columns (total 5 columns):\n",
      " #   Column          Non-Null Count  Dtype  \n",
      "---  ------          --------------  -----  \n",
      " 0   title           3387 non-null   object \n",
      " 1   studio          3382 non-null   object \n",
      " 2   domestic_gross  3359 non-null   float64\n",
      " 3   foreign_gross   2037 non-null   object \n",
      " 4   year            3387 non-null   int64  \n",
      "dtypes: float64(1), int64(1), object(3)\n",
      "memory usage: 132.4+ KB\n"
     ]
    }
   ],
   "source": [
    "bom_movie.info()\n"
   ]
  },
  {
   "cell_type": "markdown",
   "metadata": {},
   "source": [
    "The dataframe has 5 columns and 3387 rows of entries. There are some missing values in the studio, domestic gross and foreign gross columns.\n",
    "Since the null values in the studio columns is few, lets see if we can drop them. First we filter the DataFrame bom_movie to include only those rows where the 'studio' column has missing values (NaN)."
   ]
  },
  {
   "cell_type": "code",
   "execution_count": 87,
   "metadata": {},
   "outputs": [
    {
     "data": {
      "text/html": [
       "<div>\n",
       "<style scoped>\n",
       "    .dataframe tbody tr th:only-of-type {\n",
       "        vertical-align: middle;\n",
       "    }\n",
       "\n",
       "    .dataframe tbody tr th {\n",
       "        vertical-align: top;\n",
       "    }\n",
       "\n",
       "    .dataframe thead th {\n",
       "        text-align: right;\n",
       "    }\n",
       "</style>\n",
       "<table border=\"1\" class=\"dataframe\">\n",
       "  <thead>\n",
       "    <tr style=\"text-align: right;\">\n",
       "      <th></th>\n",
       "      <th>title</th>\n",
       "      <th>studio</th>\n",
       "      <th>domestic_gross</th>\n",
       "      <th>foreign_gross</th>\n",
       "      <th>year</th>\n",
       "    </tr>\n",
       "  </thead>\n",
       "  <tbody>\n",
       "    <tr>\n",
       "      <th>210</th>\n",
       "      <td>Outside the Law (Hors-la-loi)</td>\n",
       "      <td>NaN</td>\n",
       "      <td>96900.0</td>\n",
       "      <td>3300000</td>\n",
       "      <td>2010</td>\n",
       "    </tr>\n",
       "    <tr>\n",
       "      <th>555</th>\n",
       "      <td>Fireflies in the Garden</td>\n",
       "      <td>NaN</td>\n",
       "      <td>70600.0</td>\n",
       "      <td>3300000</td>\n",
       "      <td>2011</td>\n",
       "    </tr>\n",
       "    <tr>\n",
       "      <th>933</th>\n",
       "      <td>Keith Lemon: The Film</td>\n",
       "      <td>NaN</td>\n",
       "      <td>NaN</td>\n",
       "      <td>4000000</td>\n",
       "      <td>2012</td>\n",
       "    </tr>\n",
       "    <tr>\n",
       "      <th>1862</th>\n",
       "      <td>Plot for Peace</td>\n",
       "      <td>NaN</td>\n",
       "      <td>7100.0</td>\n",
       "      <td>NaN</td>\n",
       "      <td>2014</td>\n",
       "    </tr>\n",
       "    <tr>\n",
       "      <th>2825</th>\n",
       "      <td>Secret Superstar</td>\n",
       "      <td>NaN</td>\n",
       "      <td>NaN</td>\n",
       "      <td>122000000</td>\n",
       "      <td>2017</td>\n",
       "    </tr>\n",
       "  </tbody>\n",
       "</table>\n",
       "</div>"
      ],
      "text/plain": [
       "                              title studio  domestic_gross foreign_gross  year\n",
       "210   Outside the Law (Hors-la-loi)    NaN         96900.0       3300000  2010\n",
       "555         Fireflies in the Garden    NaN         70600.0       3300000  2011\n",
       "933           Keith Lemon: The Film    NaN             NaN       4000000  2012\n",
       "1862                 Plot for Peace    NaN          7100.0           NaN  2014\n",
       "2825               Secret Superstar    NaN             NaN     122000000  2017"
      ]
     },
     "execution_count": 87,
     "metadata": {},
     "output_type": "execute_result"
    }
   ],
   "source": [
    "bom_movie.loc[bom_movie['studio'].isna() == True]"
   ]
  },
  {
   "cell_type": "markdown",
   "metadata": {},
   "source": [
    "The above movies can be dropped since they are missing values and have made litte gross profits compaired to the rest of the movies in the data set."
   ]
  },
  {
   "cell_type": "code",
   "execution_count": 88,
   "metadata": {},
   "outputs": [],
   "source": [
    "bom_movie = bom_movie.dropna(subset=['studio'])"
   ]
  },
  {
   "cell_type": "markdown",
   "metadata": {},
   "source": [
    "Lets checkout the top movies based off of their foreign_gross and domestic gross group them by the studio that produced them but foreign_gross is in string format so we should first convert to a float.We would strip all the commas from the strings in foreign gross and then convert them to float and replace the values with the new float values this will make it easier when using aggregate functions"
   ]
  },
  {
   "cell_type": "code",
   "execution_count": 89,
   "metadata": {},
   "outputs": [],
   "source": [
    "bom_movie['foreign_gross'] = bom_movie['foreign_gross'].str.replace(',','')\n",
    "bom_movie['foreign_gross'] = pd.to_numeric(bom_movie['foreign_gross'])"
   ]
  },
  {
   "cell_type": "code",
   "execution_count": 90,
   "metadata": {},
   "outputs": [
    {
     "name": "stdout",
     "output_type": "stream",
     "text": [
      "<class 'pandas.core.frame.DataFrame'>\n",
      "Int64Index: 3382 entries, 0 to 3386\n",
      "Data columns (total 5 columns):\n",
      " #   Column          Non-Null Count  Dtype  \n",
      "---  ------          --------------  -----  \n",
      " 0   title           3382 non-null   object \n",
      " 1   studio          3382 non-null   object \n",
      " 2   domestic_gross  3356 non-null   float64\n",
      " 3   foreign_gross   2033 non-null   float64\n",
      " 4   year            3382 non-null   int64  \n",
      "dtypes: float64(2), int64(1), object(2)\n",
      "memory usage: 158.5+ KB\n"
     ]
    }
   ],
   "source": [
    "bom_movie.info()"
   ]
  },
  {
   "cell_type": "markdown",
   "metadata": {},
   "source": [
    "After fixing up the data type of the foreign gross column the next step would be to sort out the values to pick out the top ten movies based off of foreign gross that the movie earned and assigned it to a dataframe called top_10_movies_revenue"
   ]
  },
  {
   "cell_type": "code",
   "execution_count": 91,
   "metadata": {},
   "outputs": [
    {
     "data": {
      "text/html": [
       "<div>\n",
       "<style scoped>\n",
       "    .dataframe tbody tr th:only-of-type {\n",
       "        vertical-align: middle;\n",
       "    }\n",
       "\n",
       "    .dataframe tbody tr th {\n",
       "        vertical-align: top;\n",
       "    }\n",
       "\n",
       "    .dataframe thead th {\n",
       "        text-align: right;\n",
       "    }\n",
       "</style>\n",
       "<table border=\"1\" class=\"dataframe\">\n",
       "  <thead>\n",
       "    <tr style=\"text-align: right;\">\n",
       "      <th></th>\n",
       "      <th>title</th>\n",
       "      <th>studio</th>\n",
       "      <th>domestic_gross</th>\n",
       "      <th>foreign_gross</th>\n",
       "      <th>year</th>\n",
       "    </tr>\n",
       "  </thead>\n",
       "  <tbody>\n",
       "    <tr>\n",
       "      <th>328</th>\n",
       "      <td>Harry Potter and the Deathly Hallows Part 2</td>\n",
       "      <td>WB</td>\n",
       "      <td>381000000.0</td>\n",
       "      <td>960500000.0</td>\n",
       "      <td>2011</td>\n",
       "    </tr>\n",
       "    <tr>\n",
       "      <th>1875</th>\n",
       "      <td>Avengers: Age of Ultron</td>\n",
       "      <td>BV</td>\n",
       "      <td>459000000.0</td>\n",
       "      <td>946400000.0</td>\n",
       "      <td>2015</td>\n",
       "    </tr>\n",
       "    <tr>\n",
       "      <th>727</th>\n",
       "      <td>Marvel's The Avengers</td>\n",
       "      <td>BV</td>\n",
       "      <td>623400000.0</td>\n",
       "      <td>895500000.0</td>\n",
       "      <td>2012</td>\n",
       "    </tr>\n",
       "    <tr>\n",
       "      <th>3081</th>\n",
       "      <td>Jurassic World: Fallen Kingdom</td>\n",
       "      <td>Uni.</td>\n",
       "      <td>417700000.0</td>\n",
       "      <td>891800000.0</td>\n",
       "      <td>2018</td>\n",
       "    </tr>\n",
       "    <tr>\n",
       "      <th>1127</th>\n",
       "      <td>Frozen</td>\n",
       "      <td>BV</td>\n",
       "      <td>400700000.0</td>\n",
       "      <td>875700000.0</td>\n",
       "      <td>2013</td>\n",
       "    </tr>\n",
       "    <tr>\n",
       "      <th>2764</th>\n",
       "      <td>Wolf Warrior 2</td>\n",
       "      <td>HC</td>\n",
       "      <td>2700000.0</td>\n",
       "      <td>867600000.0</td>\n",
       "      <td>2017</td>\n",
       "    </tr>\n",
       "    <tr>\n",
       "      <th>1477</th>\n",
       "      <td>Transformers: Age of Extinction</td>\n",
       "      <td>Par.</td>\n",
       "      <td>245400000.0</td>\n",
       "      <td>858600000.0</td>\n",
       "      <td>2014</td>\n",
       "    </tr>\n",
       "    <tr>\n",
       "      <th>1876</th>\n",
       "      <td>Minions</td>\n",
       "      <td>Uni.</td>\n",
       "      <td>336000000.0</td>\n",
       "      <td>823400000.0</td>\n",
       "      <td>2015</td>\n",
       "    </tr>\n",
       "    <tr>\n",
       "      <th>3083</th>\n",
       "      <td>Aquaman</td>\n",
       "      <td>WB</td>\n",
       "      <td>335100000.0</td>\n",
       "      <td>812700000.0</td>\n",
       "      <td>2018</td>\n",
       "    </tr>\n",
       "    <tr>\n",
       "      <th>1128</th>\n",
       "      <td>Iron Man 3</td>\n",
       "      <td>BV</td>\n",
       "      <td>409000000.0</td>\n",
       "      <td>805800000.0</td>\n",
       "      <td>2013</td>\n",
       "    </tr>\n",
       "  </tbody>\n",
       "</table>\n",
       "</div>"
      ],
      "text/plain": [
       "                                            title studio  domestic_gross  \\\n",
       "328   Harry Potter and the Deathly Hallows Part 2     WB     381000000.0   \n",
       "1875                      Avengers: Age of Ultron     BV     459000000.0   \n",
       "727                         Marvel's The Avengers     BV     623400000.0   \n",
       "3081               Jurassic World: Fallen Kingdom   Uni.     417700000.0   \n",
       "1127                                       Frozen     BV     400700000.0   \n",
       "2764                               Wolf Warrior 2     HC       2700000.0   \n",
       "1477              Transformers: Age of Extinction   Par.     245400000.0   \n",
       "1876                                      Minions   Uni.     336000000.0   \n",
       "3083                                      Aquaman     WB     335100000.0   \n",
       "1128                                   Iron Man 3     BV     409000000.0   \n",
       "\n",
       "      foreign_gross  year  \n",
       "328     960500000.0  2011  \n",
       "1875    946400000.0  2015  \n",
       "727     895500000.0  2012  \n",
       "3081    891800000.0  2018  \n",
       "1127    875700000.0  2013  \n",
       "2764    867600000.0  2017  \n",
       "1477    858600000.0  2014  \n",
       "1876    823400000.0  2015  \n",
       "3083    812700000.0  2018  \n",
       "1128    805800000.0  2013  "
      ]
     },
     "execution_count": 91,
     "metadata": {},
     "output_type": "execute_result"
    }
   ],
   "source": [
    "top_10_movies_revenue = bom_movie.sort_values(by=['foreign_gross','domestic_gross'], ascending=[False,False]).head(10)\n",
    "top_10_movies_revenue"
   ]
  },
  {
   "cell_type": "markdown",
   "metadata": {},
   "source": [
    "Created a dataframe called movie_info for the movie_info tsv file and observed the first 5 rows it contains to see if the data could be used for the project"
   ]
  },
  {
   "cell_type": "code",
   "execution_count": 92,
   "metadata": {},
   "outputs": [
    {
     "data": {
      "text/html": [
       "<div>\n",
       "<style scoped>\n",
       "    .dataframe tbody tr th:only-of-type {\n",
       "        vertical-align: middle;\n",
       "    }\n",
       "\n",
       "    .dataframe tbody tr th {\n",
       "        vertical-align: top;\n",
       "    }\n",
       "\n",
       "    .dataframe thead th {\n",
       "        text-align: right;\n",
       "    }\n",
       "</style>\n",
       "<table border=\"1\" class=\"dataframe\">\n",
       "  <thead>\n",
       "    <tr style=\"text-align: right;\">\n",
       "      <th></th>\n",
       "      <th>id</th>\n",
       "      <th>synopsis</th>\n",
       "      <th>rating</th>\n",
       "      <th>genre</th>\n",
       "      <th>director</th>\n",
       "      <th>writer</th>\n",
       "      <th>theater_date</th>\n",
       "      <th>dvd_date</th>\n",
       "      <th>currency</th>\n",
       "      <th>box_office</th>\n",
       "      <th>runtime</th>\n",
       "      <th>studio</th>\n",
       "    </tr>\n",
       "  </thead>\n",
       "  <tbody>\n",
       "    <tr>\n",
       "      <th>0</th>\n",
       "      <td>1</td>\n",
       "      <td>This gritty, fast-paced, and innovative police...</td>\n",
       "      <td>R</td>\n",
       "      <td>Action and Adventure|Classics|Drama</td>\n",
       "      <td>William Friedkin</td>\n",
       "      <td>Ernest Tidyman</td>\n",
       "      <td>Oct 9, 1971</td>\n",
       "      <td>Sep 25, 2001</td>\n",
       "      <td>NaN</td>\n",
       "      <td>NaN</td>\n",
       "      <td>104 minutes</td>\n",
       "      <td>NaN</td>\n",
       "    </tr>\n",
       "    <tr>\n",
       "      <th>1</th>\n",
       "      <td>3</td>\n",
       "      <td>New York City, not-too-distant-future: Eric Pa...</td>\n",
       "      <td>R</td>\n",
       "      <td>Drama|Science Fiction and Fantasy</td>\n",
       "      <td>David Cronenberg</td>\n",
       "      <td>David Cronenberg|Don DeLillo</td>\n",
       "      <td>Aug 17, 2012</td>\n",
       "      <td>Jan 1, 2013</td>\n",
       "      <td>$</td>\n",
       "      <td>600,000</td>\n",
       "      <td>108 minutes</td>\n",
       "      <td>Entertainment One</td>\n",
       "    </tr>\n",
       "    <tr>\n",
       "      <th>2</th>\n",
       "      <td>5</td>\n",
       "      <td>Illeana Douglas delivers a superb performance ...</td>\n",
       "      <td>R</td>\n",
       "      <td>Drama|Musical and Performing Arts</td>\n",
       "      <td>Allison Anders</td>\n",
       "      <td>Allison Anders</td>\n",
       "      <td>Sep 13, 1996</td>\n",
       "      <td>Apr 18, 2000</td>\n",
       "      <td>NaN</td>\n",
       "      <td>NaN</td>\n",
       "      <td>116 minutes</td>\n",
       "      <td>NaN</td>\n",
       "    </tr>\n",
       "    <tr>\n",
       "      <th>3</th>\n",
       "      <td>6</td>\n",
       "      <td>Michael Douglas runs afoul of a treacherous su...</td>\n",
       "      <td>R</td>\n",
       "      <td>Drama|Mystery and Suspense</td>\n",
       "      <td>Barry Levinson</td>\n",
       "      <td>Paul Attanasio|Michael Crichton</td>\n",
       "      <td>Dec 9, 1994</td>\n",
       "      <td>Aug 27, 1997</td>\n",
       "      <td>NaN</td>\n",
       "      <td>NaN</td>\n",
       "      <td>128 minutes</td>\n",
       "      <td>NaN</td>\n",
       "    </tr>\n",
       "    <tr>\n",
       "      <th>4</th>\n",
       "      <td>7</td>\n",
       "      <td>NaN</td>\n",
       "      <td>NR</td>\n",
       "      <td>Drama|Romance</td>\n",
       "      <td>Rodney Bennett</td>\n",
       "      <td>Giles Cooper</td>\n",
       "      <td>NaN</td>\n",
       "      <td>NaN</td>\n",
       "      <td>NaN</td>\n",
       "      <td>NaN</td>\n",
       "      <td>200 minutes</td>\n",
       "      <td>NaN</td>\n",
       "    </tr>\n",
       "  </tbody>\n",
       "</table>\n",
       "</div>"
      ],
      "text/plain": [
       "   id                                           synopsis rating  \\\n",
       "0   1  This gritty, fast-paced, and innovative police...      R   \n",
       "1   3  New York City, not-too-distant-future: Eric Pa...      R   \n",
       "2   5  Illeana Douglas delivers a superb performance ...      R   \n",
       "3   6  Michael Douglas runs afoul of a treacherous su...      R   \n",
       "4   7                                                NaN     NR   \n",
       "\n",
       "                                 genre          director  \\\n",
       "0  Action and Adventure|Classics|Drama  William Friedkin   \n",
       "1    Drama|Science Fiction and Fantasy  David Cronenberg   \n",
       "2    Drama|Musical and Performing Arts    Allison Anders   \n",
       "3           Drama|Mystery and Suspense    Barry Levinson   \n",
       "4                        Drama|Romance    Rodney Bennett   \n",
       "\n",
       "                            writer  theater_date      dvd_date currency  \\\n",
       "0                   Ernest Tidyman   Oct 9, 1971  Sep 25, 2001      NaN   \n",
       "1     David Cronenberg|Don DeLillo  Aug 17, 2012   Jan 1, 2013        $   \n",
       "2                   Allison Anders  Sep 13, 1996  Apr 18, 2000      NaN   \n",
       "3  Paul Attanasio|Michael Crichton   Dec 9, 1994  Aug 27, 1997      NaN   \n",
       "4                     Giles Cooper           NaN           NaN      NaN   \n",
       "\n",
       "  box_office      runtime             studio  \n",
       "0        NaN  104 minutes                NaN  \n",
       "1    600,000  108 minutes  Entertainment One  \n",
       "2        NaN  116 minutes                NaN  \n",
       "3        NaN  128 minutes                NaN  \n",
       "4        NaN  200 minutes                NaN  "
      ]
     },
     "execution_count": 92,
     "metadata": {},
     "output_type": "execute_result"
    }
   ],
   "source": [
    "movie_info = pd.read_csv('Data/rt.movie_info.tsv', delimiter='\\t')\n",
    "movie_info.head()"
   ]
  },
  {
   "cell_type": "markdown",
   "metadata": {},
   "source": [
    "Created a dataframe called tmovies for tmdb.movies.csv file and observed the first 5 rows it contains to see if the data could be used for the project"
   ]
  },
  {
   "cell_type": "code",
   "execution_count": 93,
   "metadata": {},
   "outputs": [
    {
     "data": {
      "text/html": [
       "<div>\n",
       "<style scoped>\n",
       "    .dataframe tbody tr th:only-of-type {\n",
       "        vertical-align: middle;\n",
       "    }\n",
       "\n",
       "    .dataframe tbody tr th {\n",
       "        vertical-align: top;\n",
       "    }\n",
       "\n",
       "    .dataframe thead th {\n",
       "        text-align: right;\n",
       "    }\n",
       "</style>\n",
       "<table border=\"1\" class=\"dataframe\">\n",
       "  <thead>\n",
       "    <tr style=\"text-align: right;\">\n",
       "      <th></th>\n",
       "      <th>Unnamed: 0</th>\n",
       "      <th>genre_ids</th>\n",
       "      <th>id</th>\n",
       "      <th>original_language</th>\n",
       "      <th>original_title</th>\n",
       "      <th>popularity</th>\n",
       "      <th>release_date</th>\n",
       "      <th>title</th>\n",
       "      <th>vote_average</th>\n",
       "      <th>vote_count</th>\n",
       "    </tr>\n",
       "  </thead>\n",
       "  <tbody>\n",
       "    <tr>\n",
       "      <th>0</th>\n",
       "      <td>0</td>\n",
       "      <td>[12, 14, 10751]</td>\n",
       "      <td>12444</td>\n",
       "      <td>en</td>\n",
       "      <td>Harry Potter and the Deathly Hallows: Part 1</td>\n",
       "      <td>33.533</td>\n",
       "      <td>2010-11-19</td>\n",
       "      <td>Harry Potter and the Deathly Hallows: Part 1</td>\n",
       "      <td>7.7</td>\n",
       "      <td>10788</td>\n",
       "    </tr>\n",
       "    <tr>\n",
       "      <th>1</th>\n",
       "      <td>1</td>\n",
       "      <td>[14, 12, 16, 10751]</td>\n",
       "      <td>10191</td>\n",
       "      <td>en</td>\n",
       "      <td>How to Train Your Dragon</td>\n",
       "      <td>28.734</td>\n",
       "      <td>2010-03-26</td>\n",
       "      <td>How to Train Your Dragon</td>\n",
       "      <td>7.7</td>\n",
       "      <td>7610</td>\n",
       "    </tr>\n",
       "    <tr>\n",
       "      <th>2</th>\n",
       "      <td>2</td>\n",
       "      <td>[12, 28, 878]</td>\n",
       "      <td>10138</td>\n",
       "      <td>en</td>\n",
       "      <td>Iron Man 2</td>\n",
       "      <td>28.515</td>\n",
       "      <td>2010-05-07</td>\n",
       "      <td>Iron Man 2</td>\n",
       "      <td>6.8</td>\n",
       "      <td>12368</td>\n",
       "    </tr>\n",
       "    <tr>\n",
       "      <th>3</th>\n",
       "      <td>3</td>\n",
       "      <td>[16, 35, 10751]</td>\n",
       "      <td>862</td>\n",
       "      <td>en</td>\n",
       "      <td>Toy Story</td>\n",
       "      <td>28.005</td>\n",
       "      <td>1995-11-22</td>\n",
       "      <td>Toy Story</td>\n",
       "      <td>7.9</td>\n",
       "      <td>10174</td>\n",
       "    </tr>\n",
       "    <tr>\n",
       "      <th>4</th>\n",
       "      <td>4</td>\n",
       "      <td>[28, 878, 12]</td>\n",
       "      <td>27205</td>\n",
       "      <td>en</td>\n",
       "      <td>Inception</td>\n",
       "      <td>27.920</td>\n",
       "      <td>2010-07-16</td>\n",
       "      <td>Inception</td>\n",
       "      <td>8.3</td>\n",
       "      <td>22186</td>\n",
       "    </tr>\n",
       "  </tbody>\n",
       "</table>\n",
       "</div>"
      ],
      "text/plain": [
       "   Unnamed: 0            genre_ids     id original_language  \\\n",
       "0           0      [12, 14, 10751]  12444                en   \n",
       "1           1  [14, 12, 16, 10751]  10191                en   \n",
       "2           2        [12, 28, 878]  10138                en   \n",
       "3           3      [16, 35, 10751]    862                en   \n",
       "4           4        [28, 878, 12]  27205                en   \n",
       "\n",
       "                                 original_title  popularity release_date  \\\n",
       "0  Harry Potter and the Deathly Hallows: Part 1      33.533   2010-11-19   \n",
       "1                      How to Train Your Dragon      28.734   2010-03-26   \n",
       "2                                    Iron Man 2      28.515   2010-05-07   \n",
       "3                                     Toy Story      28.005   1995-11-22   \n",
       "4                                     Inception      27.920   2010-07-16   \n",
       "\n",
       "                                          title  vote_average  vote_count  \n",
       "0  Harry Potter and the Deathly Hallows: Part 1           7.7       10788  \n",
       "1                      How to Train Your Dragon           7.7        7610  \n",
       "2                                    Iron Man 2           6.8       12368  \n",
       "3                                     Toy Story           7.9       10174  \n",
       "4                                     Inception           8.3       22186  "
      ]
     },
     "execution_count": 93,
     "metadata": {},
     "output_type": "execute_result"
    }
   ],
   "source": [
    "tmovies = pd.read_csv('Data/tmdb.movies.csv')\n",
    "tmovies.head()"
   ]
  },
  {
   "cell_type": "markdown",
   "metadata": {},
   "source": [
    "Lets inspect the tmovies dataframe"
   ]
  },
  {
   "cell_type": "code",
   "execution_count": 94,
   "metadata": {},
   "outputs": [
    {
     "name": "stdout",
     "output_type": "stream",
     "text": [
      "<class 'pandas.core.frame.DataFrame'>\n",
      "RangeIndex: 26517 entries, 0 to 26516\n",
      "Data columns (total 10 columns):\n",
      " #   Column             Non-Null Count  Dtype  \n",
      "---  ------             --------------  -----  \n",
      " 0   Unnamed: 0         26517 non-null  int64  \n",
      " 1   genre_ids          26517 non-null  object \n",
      " 2   id                 26517 non-null  int64  \n",
      " 3   original_language  26517 non-null  object \n",
      " 4   original_title     26517 non-null  object \n",
      " 5   popularity         26517 non-null  float64\n",
      " 6   release_date       26517 non-null  object \n",
      " 7   title              26517 non-null  object \n",
      " 8   vote_average       26517 non-null  float64\n",
      " 9   vote_count         26517 non-null  int64  \n",
      "dtypes: float64(2), int64(3), object(5)\n",
      "memory usage: 2.0+ MB\n"
     ]
    }
   ],
   "source": [
    "tmovies.info()"
   ]
  },
  {
   "cell_type": "markdown",
   "metadata": {},
   "source": [
    "There are 26517 entries and there are no missing values in the entire dataframe. Hence, w can use it without a lot of cleaning.\n",
    "Sorting the dataframe using the vote_average , vote_count and popularity column."
   ]
  },
  {
   "cell_type": "code",
   "execution_count": 95,
   "metadata": {},
   "outputs": [
    {
     "data": {
      "text/html": [
       "<div>\n",
       "<style scoped>\n",
       "    .dataframe tbody tr th:only-of-type {\n",
       "        vertical-align: middle;\n",
       "    }\n",
       "\n",
       "    .dataframe tbody tr th {\n",
       "        vertical-align: top;\n",
       "    }\n",
       "\n",
       "    .dataframe thead th {\n",
       "        text-align: right;\n",
       "    }\n",
       "</style>\n",
       "<table border=\"1\" class=\"dataframe\">\n",
       "  <thead>\n",
       "    <tr style=\"text-align: right;\">\n",
       "      <th></th>\n",
       "      <th>Unnamed: 0</th>\n",
       "      <th>genre_ids</th>\n",
       "      <th>id</th>\n",
       "      <th>original_language</th>\n",
       "      <th>original_title</th>\n",
       "      <th>popularity</th>\n",
       "      <th>release_date</th>\n",
       "      <th>title</th>\n",
       "      <th>vote_average</th>\n",
       "      <th>vote_count</th>\n",
       "    </tr>\n",
       "  </thead>\n",
       "  <tbody>\n",
       "    <tr>\n",
       "      <th>3687</th>\n",
       "      <td>3687</td>\n",
       "      <td>[35, 14, 18, 10749]</td>\n",
       "      <td>307124</td>\n",
       "      <td>en</td>\n",
       "      <td>Love on a Leash</td>\n",
       "      <td>1.400</td>\n",
       "      <td>2013-08-13</td>\n",
       "      <td>Love on a Leash</td>\n",
       "      <td>10.0</td>\n",
       "      <td>7</td>\n",
       "    </tr>\n",
       "    <tr>\n",
       "      <th>9199</th>\n",
       "      <td>9199</td>\n",
       "      <td>[35, 14, 18, 10749]</td>\n",
       "      <td>307124</td>\n",
       "      <td>en</td>\n",
       "      <td>Love on a Leash</td>\n",
       "      <td>1.400</td>\n",
       "      <td>2013-08-13</td>\n",
       "      <td>Love on a Leash</td>\n",
       "      <td>10.0</td>\n",
       "      <td>7</td>\n",
       "    </tr>\n",
       "    <tr>\n",
       "      <th>19174</th>\n",
       "      <td>19174</td>\n",
       "      <td>[10402]</td>\n",
       "      <td>411990</td>\n",
       "      <td>en</td>\n",
       "      <td>Endless</td>\n",
       "      <td>1.003</td>\n",
       "      <td>2016-08-19</td>\n",
       "      <td>Endless</td>\n",
       "      <td>10.0</td>\n",
       "      <td>4</td>\n",
       "    </tr>\n",
       "    <tr>\n",
       "      <th>12742</th>\n",
       "      <td>12742</td>\n",
       "      <td>[99]</td>\n",
       "      <td>276913</td>\n",
       "      <td>en</td>\n",
       "      <td>Hidden Colors 3: The Rules of Racism</td>\n",
       "      <td>0.968</td>\n",
       "      <td>2014-06-26</td>\n",
       "      <td>Hidden Colors 3: The Rules of Racism</td>\n",
       "      <td>10.0</td>\n",
       "      <td>4</td>\n",
       "    </tr>\n",
       "    <tr>\n",
       "      <th>24326</th>\n",
       "      <td>24326</td>\n",
       "      <td>[16, 12]</td>\n",
       "      <td>561974</td>\n",
       "      <td>ko</td>\n",
       "      <td>점박이 한반도의 공룡 2: 새로운 낙원</td>\n",
       "      <td>7.941</td>\n",
       "      <td>2018-12-31</td>\n",
       "      <td>Dino King 3D: Journey to Fire Mountain</td>\n",
       "      <td>10.0</td>\n",
       "      <td>3</td>\n",
       "    </tr>\n",
       "  </tbody>\n",
       "</table>\n",
       "</div>"
      ],
      "text/plain": [
       "       Unnamed: 0            genre_ids      id original_language  \\\n",
       "3687         3687  [35, 14, 18, 10749]  307124                en   \n",
       "9199         9199  [35, 14, 18, 10749]  307124                en   \n",
       "19174       19174              [10402]  411990                en   \n",
       "12742       12742                 [99]  276913                en   \n",
       "24326       24326             [16, 12]  561974                ko   \n",
       "\n",
       "                             original_title  popularity release_date  \\\n",
       "3687                        Love on a Leash       1.400   2013-08-13   \n",
       "9199                        Love on a Leash       1.400   2013-08-13   \n",
       "19174                               Endless       1.003   2016-08-19   \n",
       "12742  Hidden Colors 3: The Rules of Racism       0.968   2014-06-26   \n",
       "24326                 점박이 한반도의 공룡 2: 새로운 낙원       7.941   2018-12-31   \n",
       "\n",
       "                                        title  vote_average  vote_count  \n",
       "3687                          Love on a Leash          10.0           7  \n",
       "9199                          Love on a Leash          10.0           7  \n",
       "19174                                 Endless          10.0           4  \n",
       "12742    Hidden Colors 3: The Rules of Racism          10.0           4  \n",
       "24326  Dino King 3D: Journey to Fire Mountain          10.0           3  "
      ]
     },
     "execution_count": 95,
     "metadata": {},
     "output_type": "execute_result"
    }
   ],
   "source": [
    "tmovies = tmovies.sort_values(by=['vote_average','vote_count','popularity'], ascending=[False,False,False])\n",
    "tmovies.head()"
   ]
  },
  {
   "cell_type": "markdown",
   "metadata": {},
   "source": [
    "AS shown above, there are some duplicates to be dropped for better data analysis. Also dropped the unnamed and genre_ids columns since its data cannot be understood."
   ]
  },
  {
   "cell_type": "code",
   "execution_count": 96,
   "metadata": {},
   "outputs": [
    {
     "data": {
      "text/html": [
       "<div>\n",
       "<style scoped>\n",
       "    .dataframe tbody tr th:only-of-type {\n",
       "        vertical-align: middle;\n",
       "    }\n",
       "\n",
       "    .dataframe tbody tr th {\n",
       "        vertical-align: top;\n",
       "    }\n",
       "\n",
       "    .dataframe thead th {\n",
       "        text-align: right;\n",
       "    }\n",
       "</style>\n",
       "<table border=\"1\" class=\"dataframe\">\n",
       "  <thead>\n",
       "    <tr style=\"text-align: right;\">\n",
       "      <th></th>\n",
       "      <th>id</th>\n",
       "      <th>original_language</th>\n",
       "      <th>original_title</th>\n",
       "      <th>popularity</th>\n",
       "      <th>release_date</th>\n",
       "      <th>title</th>\n",
       "      <th>vote_average</th>\n",
       "      <th>vote_count</th>\n",
       "    </tr>\n",
       "  </thead>\n",
       "  <tbody>\n",
       "    <tr>\n",
       "      <th>3687</th>\n",
       "      <td>307124</td>\n",
       "      <td>en</td>\n",
       "      <td>Love on a Leash</td>\n",
       "      <td>1.400</td>\n",
       "      <td>2013-08-13</td>\n",
       "      <td>Love on a Leash</td>\n",
       "      <td>10.0</td>\n",
       "      <td>7</td>\n",
       "    </tr>\n",
       "    <tr>\n",
       "      <th>19174</th>\n",
       "      <td>411990</td>\n",
       "      <td>en</td>\n",
       "      <td>Endless</td>\n",
       "      <td>1.003</td>\n",
       "      <td>2016-08-19</td>\n",
       "      <td>Endless</td>\n",
       "      <td>10.0</td>\n",
       "      <td>4</td>\n",
       "    </tr>\n",
       "    <tr>\n",
       "      <th>12742</th>\n",
       "      <td>276913</td>\n",
       "      <td>en</td>\n",
       "      <td>Hidden Colors 3: The Rules of Racism</td>\n",
       "      <td>0.968</td>\n",
       "      <td>2014-06-26</td>\n",
       "      <td>Hidden Colors 3: The Rules of Racism</td>\n",
       "      <td>10.0</td>\n",
       "      <td>4</td>\n",
       "    </tr>\n",
       "    <tr>\n",
       "      <th>24326</th>\n",
       "      <td>561974</td>\n",
       "      <td>ko</td>\n",
       "      <td>점박이 한반도의 공룡 2: 새로운 낙원</td>\n",
       "      <td>7.941</td>\n",
       "      <td>2018-12-31</td>\n",
       "      <td>Dino King 3D: Journey to Fire Mountain</td>\n",
       "      <td>10.0</td>\n",
       "      <td>3</td>\n",
       "    </tr>\n",
       "    <tr>\n",
       "      <th>24612</th>\n",
       "      <td>541576</td>\n",
       "      <td>en</td>\n",
       "      <td>Meeting Gorbachev</td>\n",
       "      <td>5.870</td>\n",
       "      <td>2019-05-03</td>\n",
       "      <td>Meeting Gorbachev</td>\n",
       "      <td>10.0</td>\n",
       "      <td>3</td>\n",
       "    </tr>\n",
       "  </tbody>\n",
       "</table>\n",
       "</div>"
      ],
      "text/plain": [
       "           id original_language                        original_title  \\\n",
       "3687   307124                en                       Love on a Leash   \n",
       "19174  411990                en                               Endless   \n",
       "12742  276913                en  Hidden Colors 3: The Rules of Racism   \n",
       "24326  561974                ko                 점박이 한반도의 공룡 2: 새로운 낙원   \n",
       "24612  541576                en                     Meeting Gorbachev   \n",
       "\n",
       "       popularity release_date                                   title  \\\n",
       "3687        1.400   2013-08-13                         Love on a Leash   \n",
       "19174       1.003   2016-08-19                                 Endless   \n",
       "12742       0.968   2014-06-26    Hidden Colors 3: The Rules of Racism   \n",
       "24326       7.941   2018-12-31  Dino King 3D: Journey to Fire Mountain   \n",
       "24612       5.870   2019-05-03                       Meeting Gorbachev   \n",
       "\n",
       "       vote_average  vote_count  \n",
       "3687           10.0           7  \n",
       "19174          10.0           4  \n",
       "12742          10.0           4  \n",
       "24326          10.0           3  \n",
       "24612          10.0           3  "
      ]
     },
     "execution_count": 96,
     "metadata": {},
     "output_type": "execute_result"
    }
   ],
   "source": [
    "#dropping the unnamed and genre_id columns\n",
    "tmovies = tmovies.drop(['Unnamed: 0','genre_ids'], axis=1)\n",
    "#dropping any duplicated\n",
    "tmovies.drop_duplicates(inplace=True)\n",
    "tmovies.head()\n",
    "\n"
   ]
  },
  {
   "cell_type": "markdown",
   "metadata": {},
   "source": [
    "Created a dataframe called movie_budgets and opened the movie_budgets.csv file and looked at the info of the data entries and the columns"
   ]
  },
  {
   "cell_type": "code",
   "execution_count": 97,
   "metadata": {},
   "outputs": [
    {
     "name": "stdout",
     "output_type": "stream",
     "text": [
      "<class 'pandas.core.frame.DataFrame'>\n",
      "RangeIndex: 5782 entries, 0 to 5781\n",
      "Data columns (total 6 columns):\n",
      " #   Column             Non-Null Count  Dtype \n",
      "---  ------             --------------  ----- \n",
      " 0   id                 5782 non-null   int64 \n",
      " 1   release_date       5782 non-null   object\n",
      " 2   movie              5782 non-null   object\n",
      " 3   production_budget  5782 non-null   object\n",
      " 4   domestic_gross     5782 non-null   object\n",
      " 5   worldwide_gross    5782 non-null   object\n",
      "dtypes: int64(1), object(5)\n",
      "memory usage: 271.2+ KB\n"
     ]
    }
   ],
   "source": [
    "movie_budgets = pd.read_csv('./Data/tn.movie_budgets.csv')\n",
    "movie_budgets.info()"
   ]
  },
  {
   "cell_type": "markdown",
   "metadata": {},
   "source": [
    "The movie_budgets is a full dataset with no null values thus can be worked with without much cleaning to do.An excellent dataset.Looked at the first 5 rows of the dataset to get a feel of the data"
   ]
  },
  {
   "cell_type": "code",
   "execution_count": 98,
   "metadata": {},
   "outputs": [
    {
     "data": {
      "text/html": [
       "<div>\n",
       "<style scoped>\n",
       "    .dataframe tbody tr th:only-of-type {\n",
       "        vertical-align: middle;\n",
       "    }\n",
       "\n",
       "    .dataframe tbody tr th {\n",
       "        vertical-align: top;\n",
       "    }\n",
       "\n",
       "    .dataframe thead th {\n",
       "        text-align: right;\n",
       "    }\n",
       "</style>\n",
       "<table border=\"1\" class=\"dataframe\">\n",
       "  <thead>\n",
       "    <tr style=\"text-align: right;\">\n",
       "      <th></th>\n",
       "      <th>id</th>\n",
       "      <th>release_date</th>\n",
       "      <th>movie</th>\n",
       "      <th>production_budget</th>\n",
       "      <th>domestic_gross</th>\n",
       "      <th>worldwide_gross</th>\n",
       "    </tr>\n",
       "  </thead>\n",
       "  <tbody>\n",
       "    <tr>\n",
       "      <th>0</th>\n",
       "      <td>1</td>\n",
       "      <td>Dec 18, 2009</td>\n",
       "      <td>Avatar</td>\n",
       "      <td>$425,000,000</td>\n",
       "      <td>$760,507,625</td>\n",
       "      <td>$2,776,345,279</td>\n",
       "    </tr>\n",
       "    <tr>\n",
       "      <th>1</th>\n",
       "      <td>2</td>\n",
       "      <td>May 20, 2011</td>\n",
       "      <td>Pirates of the Caribbean: On Stranger Tides</td>\n",
       "      <td>$410,600,000</td>\n",
       "      <td>$241,063,875</td>\n",
       "      <td>$1,045,663,875</td>\n",
       "    </tr>\n",
       "    <tr>\n",
       "      <th>2</th>\n",
       "      <td>3</td>\n",
       "      <td>Jun 7, 2019</td>\n",
       "      <td>Dark Phoenix</td>\n",
       "      <td>$350,000,000</td>\n",
       "      <td>$42,762,350</td>\n",
       "      <td>$149,762,350</td>\n",
       "    </tr>\n",
       "    <tr>\n",
       "      <th>3</th>\n",
       "      <td>4</td>\n",
       "      <td>May 1, 2015</td>\n",
       "      <td>Avengers: Age of Ultron</td>\n",
       "      <td>$330,600,000</td>\n",
       "      <td>$459,005,868</td>\n",
       "      <td>$1,403,013,963</td>\n",
       "    </tr>\n",
       "    <tr>\n",
       "      <th>4</th>\n",
       "      <td>5</td>\n",
       "      <td>Dec 15, 2017</td>\n",
       "      <td>Star Wars Ep. VIII: The Last Jedi</td>\n",
       "      <td>$317,000,000</td>\n",
       "      <td>$620,181,382</td>\n",
       "      <td>$1,316,721,747</td>\n",
       "    </tr>\n",
       "  </tbody>\n",
       "</table>\n",
       "</div>"
      ],
      "text/plain": [
       "   id  release_date                                        movie  \\\n",
       "0   1  Dec 18, 2009                                       Avatar   \n",
       "1   2  May 20, 2011  Pirates of the Caribbean: On Stranger Tides   \n",
       "2   3   Jun 7, 2019                                 Dark Phoenix   \n",
       "3   4   May 1, 2015                      Avengers: Age of Ultron   \n",
       "4   5  Dec 15, 2017            Star Wars Ep. VIII: The Last Jedi   \n",
       "\n",
       "  production_budget domestic_gross worldwide_gross  \n",
       "0      $425,000,000   $760,507,625  $2,776,345,279  \n",
       "1      $410,600,000   $241,063,875  $1,045,663,875  \n",
       "2      $350,000,000    $42,762,350    $149,762,350  \n",
       "3      $330,600,000   $459,005,868  $1,403,013,963  \n",
       "4      $317,000,000   $620,181,382  $1,316,721,747  "
      ]
     },
     "execution_count": 98,
     "metadata": {},
     "output_type": "execute_result"
    }
   ],
   "source": [
    "movie_budgets.head()"
   ]
  },
  {
   "cell_type": "markdown",
   "metadata": {},
   "source": [
    "The production_budget,domestic_gross and worldwide gross are all in string format and they are numbers that could be used also theres commas in between 3 digits so that would have to be stripped off together with the dollar sign($) and converted to floats to be used .This will be done in the cell below"
   ]
  },
  {
   "cell_type": "code",
   "execution_count": 99,
   "metadata": {},
   "outputs": [
    {
     "name": "stdout",
     "output_type": "stream",
     "text": [
      "<class 'pandas.core.frame.DataFrame'>\n",
      "RangeIndex: 5782 entries, 0 to 5781\n",
      "Data columns (total 6 columns):\n",
      " #   Column             Non-Null Count  Dtype  \n",
      "---  ------             --------------  -----  \n",
      " 0   id                 5782 non-null   int64  \n",
      " 1   release_date       5782 non-null   object \n",
      " 2   movie              5782 non-null   object \n",
      " 3   production_budget  5782 non-null   float64\n",
      " 4   domestic_gross     5782 non-null   float64\n",
      " 5   worldwide_gross    5782 non-null   float64\n",
      "dtypes: float64(3), int64(1), object(2)\n",
      "memory usage: 271.2+ KB\n"
     ]
    }
   ],
   "source": [
    "movie_budgets['production_budget'] = movie_budgets['production_budget'].str.replace(',', '').str.replace('$','').astype('float')\n",
    "movie_budgets['domestic_gross'] = movie_budgets['domestic_gross'].str.replace(',', '').str.replace('$','').astype('float')\n",
    "movie_budgets['worldwide_gross'] = movie_budgets['worldwide_gross'].str.replace(',', '').str.replace('$','').astype('float')\n",
    "movie_budgets.info()"
   ]
  },
  {
   "cell_type": "markdown",
   "metadata": {},
   "source": [
    "Arranged the movie_budgets based off of the most earned worldwide_gross,domestic_gross and production_budget"
   ]
  },
  {
   "cell_type": "code",
   "execution_count": 100,
   "metadata": {},
   "outputs": [
    {
     "data": {
      "text/html": [
       "<div>\n",
       "<style scoped>\n",
       "    .dataframe tbody tr th:only-of-type {\n",
       "        vertical-align: middle;\n",
       "    }\n",
       "\n",
       "    .dataframe tbody tr th {\n",
       "        vertical-align: top;\n",
       "    }\n",
       "\n",
       "    .dataframe thead th {\n",
       "        text-align: right;\n",
       "    }\n",
       "</style>\n",
       "<table border=\"1\" class=\"dataframe\">\n",
       "  <thead>\n",
       "    <tr style=\"text-align: right;\">\n",
       "      <th></th>\n",
       "      <th>id</th>\n",
       "      <th>release_date</th>\n",
       "      <th>movie</th>\n",
       "      <th>production_budget</th>\n",
       "      <th>domestic_gross</th>\n",
       "      <th>worldwide_gross</th>\n",
       "    </tr>\n",
       "  </thead>\n",
       "  <tbody>\n",
       "    <tr>\n",
       "      <th>0</th>\n",
       "      <td>1</td>\n",
       "      <td>Dec 18, 2009</td>\n",
       "      <td>Avatar</td>\n",
       "      <td>425000000.0</td>\n",
       "      <td>760507625.0</td>\n",
       "      <td>2.776345e+09</td>\n",
       "    </tr>\n",
       "    <tr>\n",
       "      <th>42</th>\n",
       "      <td>43</td>\n",
       "      <td>Dec 19, 1997</td>\n",
       "      <td>Titanic</td>\n",
       "      <td>200000000.0</td>\n",
       "      <td>659363944.0</td>\n",
       "      <td>2.208208e+09</td>\n",
       "    </tr>\n",
       "    <tr>\n",
       "      <th>5</th>\n",
       "      <td>6</td>\n",
       "      <td>Dec 18, 2015</td>\n",
       "      <td>Star Wars Ep. VII: The Force Awakens</td>\n",
       "      <td>306000000.0</td>\n",
       "      <td>936662225.0</td>\n",
       "      <td>2.053311e+09</td>\n",
       "    </tr>\n",
       "    <tr>\n",
       "      <th>6</th>\n",
       "      <td>7</td>\n",
       "      <td>Apr 27, 2018</td>\n",
       "      <td>Avengers: Infinity War</td>\n",
       "      <td>300000000.0</td>\n",
       "      <td>678815482.0</td>\n",
       "      <td>2.048134e+09</td>\n",
       "    </tr>\n",
       "    <tr>\n",
       "      <th>33</th>\n",
       "      <td>34</td>\n",
       "      <td>Jun 12, 2015</td>\n",
       "      <td>Jurassic World</td>\n",
       "      <td>215000000.0</td>\n",
       "      <td>652270625.0</td>\n",
       "      <td>1.648855e+09</td>\n",
       "    </tr>\n",
       "  </tbody>\n",
       "</table>\n",
       "</div>"
      ],
      "text/plain": [
       "    id  release_date                                 movie  production_budget  \\\n",
       "0    1  Dec 18, 2009                                Avatar        425000000.0   \n",
       "42  43  Dec 19, 1997                               Titanic        200000000.0   \n",
       "5    6  Dec 18, 2015  Star Wars Ep. VII: The Force Awakens        306000000.0   \n",
       "6    7  Apr 27, 2018                Avengers: Infinity War        300000000.0   \n",
       "33  34  Jun 12, 2015                        Jurassic World        215000000.0   \n",
       "\n",
       "    domestic_gross  worldwide_gross  \n",
       "0      760507625.0     2.776345e+09  \n",
       "42     659363944.0     2.208208e+09  \n",
       "5      936662225.0     2.053311e+09  \n",
       "6      678815482.0     2.048134e+09  \n",
       "33     652270625.0     1.648855e+09  "
      ]
     },
     "execution_count": 100,
     "metadata": {},
     "output_type": "execute_result"
    }
   ],
   "source": [
    "movie_budgets = movie_budgets.sort_values(by=['worldwide_gross','domestic_gross','production_budget'],ascending=[False,False,True])\n",
    "movie_budgets.head()"
   ]
  },
  {
   "cell_type": "markdown",
   "metadata": {},
   "source": [
    "That a lot of money!\n",
    "Nice now to the im.db file created a function called readsql where the argument would be an sql query and it will return a result"
   ]
  },
  {
   "cell_type": "code",
   "execution_count": 101,
   "metadata": {},
   "outputs": [],
   "source": [
    "def readsql(query):\n",
    "    return pd.read_sql(query, conn)"
   ]
  },
  {
   "cell_type": "markdown",
   "metadata": {},
   "source": [
    "Created a dataframe called Imdb list that joins the movie_ratings and movie basics using movie_id"
   ]
  },
  {
   "cell_type": "code",
   "execution_count": 102,
   "metadata": {},
   "outputs": [
    {
     "name": "stdout",
     "output_type": "stream",
     "text": [
      "<class 'pandas.core.frame.DataFrame'>\n",
      "RangeIndex: 73856 entries, 0 to 73855\n",
      "Data columns (total 8 columns):\n",
      " #   Column           Non-Null Count  Dtype  \n",
      "---  ------           --------------  -----  \n",
      " 0   movie_id         73856 non-null  object \n",
      " 1   primary_title    73856 non-null  object \n",
      " 2   original_title   73856 non-null  object \n",
      " 3   start_year       73856 non-null  int64  \n",
      " 4   runtime_minutes  66236 non-null  float64\n",
      " 5   genres           73052 non-null  object \n",
      " 6   averagerating    73856 non-null  float64\n",
      " 7   numvotes         73856 non-null  int64  \n",
      "dtypes: float64(2), int64(2), object(4)\n",
      "memory usage: 4.5+ MB\n"
     ]
    }
   ],
   "source": [
    "imdblist = readsql(\"\"\"SELECT *\n",
    "FROM movie_basics\n",
    "JOIN movie_ratings \n",
    "USING(movie_id)\n",
    "\"\"\")\n",
    "imdblist.info()"
   ]
  },
  {
   "cell_type": "code",
   "execution_count": 103,
   "metadata": {},
   "outputs": [
    {
     "data": {
      "text/html": [
       "<div>\n",
       "<style scoped>\n",
       "    .dataframe tbody tr th:only-of-type {\n",
       "        vertical-align: middle;\n",
       "    }\n",
       "\n",
       "    .dataframe tbody tr th {\n",
       "        vertical-align: top;\n",
       "    }\n",
       "\n",
       "    .dataframe thead th {\n",
       "        text-align: right;\n",
       "    }\n",
       "</style>\n",
       "<table border=\"1\" class=\"dataframe\">\n",
       "  <thead>\n",
       "    <tr style=\"text-align: right;\">\n",
       "      <th></th>\n",
       "      <th>movie_id</th>\n",
       "      <th>primary_title</th>\n",
       "      <th>original_title</th>\n",
       "      <th>start_year</th>\n",
       "      <th>runtime_minutes</th>\n",
       "      <th>genres</th>\n",
       "      <th>averagerating</th>\n",
       "      <th>numvotes</th>\n",
       "    </tr>\n",
       "  </thead>\n",
       "  <tbody>\n",
       "    <tr>\n",
       "      <th>0</th>\n",
       "      <td>tt0063540</td>\n",
       "      <td>Sunghursh</td>\n",
       "      <td>Sunghursh</td>\n",
       "      <td>2013</td>\n",
       "      <td>175.0</td>\n",
       "      <td>Action,Crime,Drama</td>\n",
       "      <td>7.0</td>\n",
       "      <td>77</td>\n",
       "    </tr>\n",
       "    <tr>\n",
       "      <th>1</th>\n",
       "      <td>tt0066787</td>\n",
       "      <td>One Day Before the Rainy Season</td>\n",
       "      <td>Ashad Ka Ek Din</td>\n",
       "      <td>2019</td>\n",
       "      <td>114.0</td>\n",
       "      <td>Biography,Drama</td>\n",
       "      <td>7.2</td>\n",
       "      <td>43</td>\n",
       "    </tr>\n",
       "    <tr>\n",
       "      <th>2</th>\n",
       "      <td>tt0069049</td>\n",
       "      <td>The Other Side of the Wind</td>\n",
       "      <td>The Other Side of the Wind</td>\n",
       "      <td>2018</td>\n",
       "      <td>122.0</td>\n",
       "      <td>Drama</td>\n",
       "      <td>6.9</td>\n",
       "      <td>4517</td>\n",
       "    </tr>\n",
       "    <tr>\n",
       "      <th>3</th>\n",
       "      <td>tt0069204</td>\n",
       "      <td>Sabse Bada Sukh</td>\n",
       "      <td>Sabse Bada Sukh</td>\n",
       "      <td>2018</td>\n",
       "      <td>NaN</td>\n",
       "      <td>Comedy,Drama</td>\n",
       "      <td>6.1</td>\n",
       "      <td>13</td>\n",
       "    </tr>\n",
       "    <tr>\n",
       "      <th>4</th>\n",
       "      <td>tt0100275</td>\n",
       "      <td>The Wandering Soap Opera</td>\n",
       "      <td>La Telenovela Errante</td>\n",
       "      <td>2017</td>\n",
       "      <td>80.0</td>\n",
       "      <td>Comedy,Drama,Fantasy</td>\n",
       "      <td>6.5</td>\n",
       "      <td>119</td>\n",
       "    </tr>\n",
       "  </tbody>\n",
       "</table>\n",
       "</div>"
      ],
      "text/plain": [
       "    movie_id                    primary_title              original_title  \\\n",
       "0  tt0063540                        Sunghursh                   Sunghursh   \n",
       "1  tt0066787  One Day Before the Rainy Season             Ashad Ka Ek Din   \n",
       "2  tt0069049       The Other Side of the Wind  The Other Side of the Wind   \n",
       "3  tt0069204                  Sabse Bada Sukh             Sabse Bada Sukh   \n",
       "4  tt0100275         The Wandering Soap Opera       La Telenovela Errante   \n",
       "\n",
       "   start_year  runtime_minutes                genres  averagerating  numvotes  \n",
       "0        2013            175.0    Action,Crime,Drama            7.0        77  \n",
       "1        2019            114.0       Biography,Drama            7.2        43  \n",
       "2        2018            122.0                 Drama            6.9      4517  \n",
       "3        2018              NaN          Comedy,Drama            6.1        13  \n",
       "4        2017             80.0  Comedy,Drama,Fantasy            6.5       119  "
      ]
     },
     "execution_count": 103,
     "metadata": {},
     "output_type": "execute_result"
    }
   ],
   "source": [
    "imdblist.head()"
   ]
  },
  {
   "cell_type": "markdown",
   "metadata": {},
   "source": [
    "Since the start year is in integer format and its just years and for the movie_budget dataframe has the date month and year creating another column called year would be ideal for merging the two data frames so that we dont have two movies with a commonn name mixed together"
   ]
  },
  {
   "cell_type": "code",
   "execution_count": 104,
   "metadata": {},
   "outputs": [
    {
     "data": {
      "text/html": [
       "<div>\n",
       "<style scoped>\n",
       "    .dataframe tbody tr th:only-of-type {\n",
       "        vertical-align: middle;\n",
       "    }\n",
       "\n",
       "    .dataframe tbody tr th {\n",
       "        vertical-align: top;\n",
       "    }\n",
       "\n",
       "    .dataframe thead th {\n",
       "        text-align: right;\n",
       "    }\n",
       "</style>\n",
       "<table border=\"1\" class=\"dataframe\">\n",
       "  <thead>\n",
       "    <tr style=\"text-align: right;\">\n",
       "      <th></th>\n",
       "      <th>id</th>\n",
       "      <th>release_date</th>\n",
       "      <th>movie</th>\n",
       "      <th>production_budget</th>\n",
       "      <th>domestic_gross</th>\n",
       "      <th>worldwide_gross</th>\n",
       "      <th>year</th>\n",
       "      <th>movie_id</th>\n",
       "      <th>primary_title</th>\n",
       "      <th>original_title</th>\n",
       "      <th>start_year</th>\n",
       "      <th>runtime_minutes</th>\n",
       "      <th>genres</th>\n",
       "      <th>averagerating</th>\n",
       "      <th>numvotes</th>\n",
       "    </tr>\n",
       "  </thead>\n",
       "  <tbody>\n",
       "    <tr>\n",
       "      <th>0</th>\n",
       "      <td>7</td>\n",
       "      <td>Apr 27, 2018</td>\n",
       "      <td>Avengers: Infinity War</td>\n",
       "      <td>300000000.0</td>\n",
       "      <td>678815482.0</td>\n",
       "      <td>2.048134e+09</td>\n",
       "      <td>2018</td>\n",
       "      <td>tt4154756</td>\n",
       "      <td>Avengers: Infinity War</td>\n",
       "      <td>Avengers: Infinity War</td>\n",
       "      <td>2018</td>\n",
       "      <td>149.0</td>\n",
       "      <td>Action,Adventure,Sci-Fi</td>\n",
       "      <td>8.5</td>\n",
       "      <td>670926</td>\n",
       "    </tr>\n",
       "    <tr>\n",
       "      <th>1</th>\n",
       "      <td>34</td>\n",
       "      <td>Jun 12, 2015</td>\n",
       "      <td>Jurassic World</td>\n",
       "      <td>215000000.0</td>\n",
       "      <td>652270625.0</td>\n",
       "      <td>1.648855e+09</td>\n",
       "      <td>2015</td>\n",
       "      <td>tt0369610</td>\n",
       "      <td>Jurassic World</td>\n",
       "      <td>Jurassic World</td>\n",
       "      <td>2015</td>\n",
       "      <td>124.0</td>\n",
       "      <td>Action,Adventure,Sci-Fi</td>\n",
       "      <td>7.0</td>\n",
       "      <td>539338</td>\n",
       "    </tr>\n",
       "    <tr>\n",
       "      <th>2</th>\n",
       "      <td>67</td>\n",
       "      <td>Apr 3, 2015</td>\n",
       "      <td>Furious 7</td>\n",
       "      <td>190000000.0</td>\n",
       "      <td>353007020.0</td>\n",
       "      <td>1.518723e+09</td>\n",
       "      <td>2015</td>\n",
       "      <td>tt2820852</td>\n",
       "      <td>Furious 7</td>\n",
       "      <td>Furious Seven</td>\n",
       "      <td>2015</td>\n",
       "      <td>137.0</td>\n",
       "      <td>Action,Crime,Thriller</td>\n",
       "      <td>7.2</td>\n",
       "      <td>335074</td>\n",
       "    </tr>\n",
       "    <tr>\n",
       "      <th>3</th>\n",
       "      <td>27</td>\n",
       "      <td>May 4, 2012</td>\n",
       "      <td>The Avengers</td>\n",
       "      <td>225000000.0</td>\n",
       "      <td>623279547.0</td>\n",
       "      <td>1.517936e+09</td>\n",
       "      <td>2012</td>\n",
       "      <td>tt0848228</td>\n",
       "      <td>The Avengers</td>\n",
       "      <td>The Avengers</td>\n",
       "      <td>2012</td>\n",
       "      <td>143.0</td>\n",
       "      <td>Action,Adventure,Sci-Fi</td>\n",
       "      <td>8.1</td>\n",
       "      <td>1183655</td>\n",
       "    </tr>\n",
       "    <tr>\n",
       "      <th>4</th>\n",
       "      <td>4</td>\n",
       "      <td>May 1, 2015</td>\n",
       "      <td>Avengers: Age of Ultron</td>\n",
       "      <td>330600000.0</td>\n",
       "      <td>459005868.0</td>\n",
       "      <td>1.403014e+09</td>\n",
       "      <td>2015</td>\n",
       "      <td>tt2395427</td>\n",
       "      <td>Avengers: Age of Ultron</td>\n",
       "      <td>Avengers: Age of Ultron</td>\n",
       "      <td>2015</td>\n",
       "      <td>141.0</td>\n",
       "      <td>Action,Adventure,Sci-Fi</td>\n",
       "      <td>7.3</td>\n",
       "      <td>665594</td>\n",
       "    </tr>\n",
       "  </tbody>\n",
       "</table>\n",
       "</div>"
      ],
      "text/plain": [
       "   id  release_date                    movie  production_budget  \\\n",
       "0   7  Apr 27, 2018   Avengers: Infinity War        300000000.0   \n",
       "1  34  Jun 12, 2015           Jurassic World        215000000.0   \n",
       "2  67   Apr 3, 2015                Furious 7        190000000.0   \n",
       "3  27   May 4, 2012             The Avengers        225000000.0   \n",
       "4   4   May 1, 2015  Avengers: Age of Ultron        330600000.0   \n",
       "\n",
       "   domestic_gross  worldwide_gross  year   movie_id            primary_title  \\\n",
       "0     678815482.0     2.048134e+09  2018  tt4154756   Avengers: Infinity War   \n",
       "1     652270625.0     1.648855e+09  2015  tt0369610           Jurassic World   \n",
       "2     353007020.0     1.518723e+09  2015  tt2820852                Furious 7   \n",
       "3     623279547.0     1.517936e+09  2012  tt0848228             The Avengers   \n",
       "4     459005868.0     1.403014e+09  2015  tt2395427  Avengers: Age of Ultron   \n",
       "\n",
       "            original_title  start_year  runtime_minutes  \\\n",
       "0   Avengers: Infinity War        2018            149.0   \n",
       "1           Jurassic World        2015            124.0   \n",
       "2            Furious Seven        2015            137.0   \n",
       "3             The Avengers        2012            143.0   \n",
       "4  Avengers: Age of Ultron        2015            141.0   \n",
       "\n",
       "                    genres  averagerating  numvotes  \n",
       "0  Action,Adventure,Sci-Fi            8.5    670926  \n",
       "1  Action,Adventure,Sci-Fi            7.0    539338  \n",
       "2    Action,Crime,Thriller            7.2    335074  \n",
       "3  Action,Adventure,Sci-Fi            8.1   1183655  \n",
       "4  Action,Adventure,Sci-Fi            7.3    665594  "
      ]
     },
     "execution_count": 104,
     "metadata": {},
     "output_type": "execute_result"
    }
   ],
   "source": [
    "movie_budgets['year'] = movie_budgets['release_date'].astype(str).str[-4:]    \n",
    "movie_budgets['year'] = movie_budgets['year'].astype('int64')\n",
    "imdb_budget = pd.merge(movie_budgets,imdblist,left_on=['movie', 'year'],right_on=['primary_title','start_year'])\n",
    "imdb_budget.head()"
   ]
  },
  {
   "cell_type": "markdown",
   "metadata": {},
   "source": [
    "There are some column duplicates to be removed.Columns to be removed would be original title,primary_title,start_year,release_Date,id,runtime_minutes"
   ]
  },
  {
   "cell_type": "code",
   "execution_count": 105,
   "metadata": {},
   "outputs": [
    {
     "data": {
      "text/html": [
       "<div>\n",
       "<style scoped>\n",
       "    .dataframe tbody tr th:only-of-type {\n",
       "        vertical-align: middle;\n",
       "    }\n",
       "\n",
       "    .dataframe tbody tr th {\n",
       "        vertical-align: top;\n",
       "    }\n",
       "\n",
       "    .dataframe thead th {\n",
       "        text-align: right;\n",
       "    }\n",
       "</style>\n",
       "<table border=\"1\" class=\"dataframe\">\n",
       "  <thead>\n",
       "    <tr style=\"text-align: right;\">\n",
       "      <th></th>\n",
       "      <th>movie</th>\n",
       "      <th>production_budget</th>\n",
       "      <th>domestic_gross</th>\n",
       "      <th>worldwide_gross</th>\n",
       "      <th>year</th>\n",
       "      <th>movie_id</th>\n",
       "      <th>genres</th>\n",
       "      <th>averagerating</th>\n",
       "      <th>numvotes</th>\n",
       "    </tr>\n",
       "  </thead>\n",
       "  <tbody>\n",
       "    <tr>\n",
       "      <th>0</th>\n",
       "      <td>Avengers: Infinity War</td>\n",
       "      <td>300000000.0</td>\n",
       "      <td>678815482.0</td>\n",
       "      <td>2.048134e+09</td>\n",
       "      <td>2018</td>\n",
       "      <td>tt4154756</td>\n",
       "      <td>Action,Adventure,Sci-Fi</td>\n",
       "      <td>8.5</td>\n",
       "      <td>670926</td>\n",
       "    </tr>\n",
       "    <tr>\n",
       "      <th>1</th>\n",
       "      <td>Jurassic World</td>\n",
       "      <td>215000000.0</td>\n",
       "      <td>652270625.0</td>\n",
       "      <td>1.648855e+09</td>\n",
       "      <td>2015</td>\n",
       "      <td>tt0369610</td>\n",
       "      <td>Action,Adventure,Sci-Fi</td>\n",
       "      <td>7.0</td>\n",
       "      <td>539338</td>\n",
       "    </tr>\n",
       "    <tr>\n",
       "      <th>2</th>\n",
       "      <td>Furious 7</td>\n",
       "      <td>190000000.0</td>\n",
       "      <td>353007020.0</td>\n",
       "      <td>1.518723e+09</td>\n",
       "      <td>2015</td>\n",
       "      <td>tt2820852</td>\n",
       "      <td>Action,Crime,Thriller</td>\n",
       "      <td>7.2</td>\n",
       "      <td>335074</td>\n",
       "    </tr>\n",
       "    <tr>\n",
       "      <th>3</th>\n",
       "      <td>The Avengers</td>\n",
       "      <td>225000000.0</td>\n",
       "      <td>623279547.0</td>\n",
       "      <td>1.517936e+09</td>\n",
       "      <td>2012</td>\n",
       "      <td>tt0848228</td>\n",
       "      <td>Action,Adventure,Sci-Fi</td>\n",
       "      <td>8.1</td>\n",
       "      <td>1183655</td>\n",
       "    </tr>\n",
       "    <tr>\n",
       "      <th>4</th>\n",
       "      <td>Avengers: Age of Ultron</td>\n",
       "      <td>330600000.0</td>\n",
       "      <td>459005868.0</td>\n",
       "      <td>1.403014e+09</td>\n",
       "      <td>2015</td>\n",
       "      <td>tt2395427</td>\n",
       "      <td>Action,Adventure,Sci-Fi</td>\n",
       "      <td>7.3</td>\n",
       "      <td>665594</td>\n",
       "    </tr>\n",
       "  </tbody>\n",
       "</table>\n",
       "</div>"
      ],
      "text/plain": [
       "                     movie  production_budget  domestic_gross  \\\n",
       "0   Avengers: Infinity War        300000000.0     678815482.0   \n",
       "1           Jurassic World        215000000.0     652270625.0   \n",
       "2                Furious 7        190000000.0     353007020.0   \n",
       "3             The Avengers        225000000.0     623279547.0   \n",
       "4  Avengers: Age of Ultron        330600000.0     459005868.0   \n",
       "\n",
       "   worldwide_gross  year   movie_id                   genres  averagerating  \\\n",
       "0     2.048134e+09  2018  tt4154756  Action,Adventure,Sci-Fi            8.5   \n",
       "1     1.648855e+09  2015  tt0369610  Action,Adventure,Sci-Fi            7.0   \n",
       "2     1.518723e+09  2015  tt2820852    Action,Crime,Thriller            7.2   \n",
       "3     1.517936e+09  2012  tt0848228  Action,Adventure,Sci-Fi            8.1   \n",
       "4     1.403014e+09  2015  tt2395427  Action,Adventure,Sci-Fi            7.3   \n",
       "\n",
       "   numvotes  \n",
       "0    670926  \n",
       "1    539338  \n",
       "2    335074  \n",
       "3   1183655  \n",
       "4    665594  "
      ]
     },
     "execution_count": 105,
     "metadata": {},
     "output_type": "execute_result"
    }
   ],
   "source": [
    "imdb_budget = imdb_budget.drop(['original_title','primary_title','start_year','release_date','id','runtime_minutes'], axis=1)\n",
    "imdb_budget.head()"
   ]
  },
  {
   "cell_type": "markdown",
   "metadata": {},
   "source": [
    "Now thats pretty neat so the next step would be to drop duplicates and arrange the based off of gross rating.A movie can only make the most money if it was the most watched since the more people watch it and buy DVDs and go to cinema the more the movie earns so it'll be arranged based off of worldwide_gross and avergaerating and numvotes"
   ]
  },
  {
   "cell_type": "code",
   "execution_count": 106,
   "metadata": {},
   "outputs": [
    {
     "data": {
      "text/html": [
       "<div>\n",
       "<style scoped>\n",
       "    .dataframe tbody tr th:only-of-type {\n",
       "        vertical-align: middle;\n",
       "    }\n",
       "\n",
       "    .dataframe tbody tr th {\n",
       "        vertical-align: top;\n",
       "    }\n",
       "\n",
       "    .dataframe thead th {\n",
       "        text-align: right;\n",
       "    }\n",
       "</style>\n",
       "<table border=\"1\" class=\"dataframe\">\n",
       "  <thead>\n",
       "    <tr style=\"text-align: right;\">\n",
       "      <th></th>\n",
       "      <th>movie</th>\n",
       "      <th>production_budget</th>\n",
       "      <th>domestic_gross</th>\n",
       "      <th>worldwide_gross</th>\n",
       "      <th>year</th>\n",
       "      <th>movie_id</th>\n",
       "      <th>genres</th>\n",
       "      <th>averagerating</th>\n",
       "      <th>numvotes</th>\n",
       "    </tr>\n",
       "  </thead>\n",
       "  <tbody>\n",
       "    <tr>\n",
       "      <th>0</th>\n",
       "      <td>Avengers: Infinity War</td>\n",
       "      <td>300000000.0</td>\n",
       "      <td>678815482.0</td>\n",
       "      <td>2.048134e+09</td>\n",
       "      <td>2018</td>\n",
       "      <td>tt4154756</td>\n",
       "      <td>Action,Adventure,Sci-Fi</td>\n",
       "      <td>8.5</td>\n",
       "      <td>670926</td>\n",
       "    </tr>\n",
       "    <tr>\n",
       "      <th>1</th>\n",
       "      <td>Jurassic World</td>\n",
       "      <td>215000000.0</td>\n",
       "      <td>652270625.0</td>\n",
       "      <td>1.648855e+09</td>\n",
       "      <td>2015</td>\n",
       "      <td>tt0369610</td>\n",
       "      <td>Action,Adventure,Sci-Fi</td>\n",
       "      <td>7.0</td>\n",
       "      <td>539338</td>\n",
       "    </tr>\n",
       "    <tr>\n",
       "      <th>2</th>\n",
       "      <td>Furious 7</td>\n",
       "      <td>190000000.0</td>\n",
       "      <td>353007020.0</td>\n",
       "      <td>1.518723e+09</td>\n",
       "      <td>2015</td>\n",
       "      <td>tt2820852</td>\n",
       "      <td>Action,Crime,Thriller</td>\n",
       "      <td>7.2</td>\n",
       "      <td>335074</td>\n",
       "    </tr>\n",
       "    <tr>\n",
       "      <th>3</th>\n",
       "      <td>The Avengers</td>\n",
       "      <td>225000000.0</td>\n",
       "      <td>623279547.0</td>\n",
       "      <td>1.517936e+09</td>\n",
       "      <td>2012</td>\n",
       "      <td>tt0848228</td>\n",
       "      <td>Action,Adventure,Sci-Fi</td>\n",
       "      <td>8.1</td>\n",
       "      <td>1183655</td>\n",
       "    </tr>\n",
       "    <tr>\n",
       "      <th>4</th>\n",
       "      <td>Avengers: Age of Ultron</td>\n",
       "      <td>330600000.0</td>\n",
       "      <td>459005868.0</td>\n",
       "      <td>1.403014e+09</td>\n",
       "      <td>2015</td>\n",
       "      <td>tt2395427</td>\n",
       "      <td>Action,Adventure,Sci-Fi</td>\n",
       "      <td>7.3</td>\n",
       "      <td>665594</td>\n",
       "    </tr>\n",
       "    <tr>\n",
       "      <th>5</th>\n",
       "      <td>Black Panther</td>\n",
       "      <td>200000000.0</td>\n",
       "      <td>700059566.0</td>\n",
       "      <td>1.348258e+09</td>\n",
       "      <td>2018</td>\n",
       "      <td>tt1825683</td>\n",
       "      <td>Action,Adventure,Sci-Fi</td>\n",
       "      <td>7.3</td>\n",
       "      <td>516148</td>\n",
       "    </tr>\n",
       "    <tr>\n",
       "      <th>6</th>\n",
       "      <td>Jurassic World: Fallen Kingdom</td>\n",
       "      <td>170000000.0</td>\n",
       "      <td>417719760.0</td>\n",
       "      <td>1.305773e+09</td>\n",
       "      <td>2018</td>\n",
       "      <td>tt4881806</td>\n",
       "      <td>Action,Adventure,Sci-Fi</td>\n",
       "      <td>6.2</td>\n",
       "      <td>219125</td>\n",
       "    </tr>\n",
       "    <tr>\n",
       "      <th>7</th>\n",
       "      <td>Frozen</td>\n",
       "      <td>150000000.0</td>\n",
       "      <td>400738009.0</td>\n",
       "      <td>1.272470e+09</td>\n",
       "      <td>2013</td>\n",
       "      <td>tt2294629</td>\n",
       "      <td>Adventure,Animation,Comedy</td>\n",
       "      <td>7.5</td>\n",
       "      <td>516998</td>\n",
       "    </tr>\n",
       "    <tr>\n",
       "      <th>8</th>\n",
       "      <td>Beauty and the Beast</td>\n",
       "      <td>160000000.0</td>\n",
       "      <td>504014165.0</td>\n",
       "      <td>1.259200e+09</td>\n",
       "      <td>2017</td>\n",
       "      <td>tt2771200</td>\n",
       "      <td>Family,Fantasy,Musical</td>\n",
       "      <td>7.2</td>\n",
       "      <td>238325</td>\n",
       "    </tr>\n",
       "    <tr>\n",
       "      <th>9</th>\n",
       "      <td>Incredibles 2</td>\n",
       "      <td>200000000.0</td>\n",
       "      <td>608581744.0</td>\n",
       "      <td>1.242521e+09</td>\n",
       "      <td>2018</td>\n",
       "      <td>tt3606756</td>\n",
       "      <td>Action,Adventure,Animation</td>\n",
       "      <td>7.7</td>\n",
       "      <td>203510</td>\n",
       "    </tr>\n",
       "  </tbody>\n",
       "</table>\n",
       "</div>"
      ],
      "text/plain": [
       "                            movie  production_budget  domestic_gross  \\\n",
       "0          Avengers: Infinity War        300000000.0     678815482.0   \n",
       "1                  Jurassic World        215000000.0     652270625.0   \n",
       "2                       Furious 7        190000000.0     353007020.0   \n",
       "3                    The Avengers        225000000.0     623279547.0   \n",
       "4         Avengers: Age of Ultron        330600000.0     459005868.0   \n",
       "5                   Black Panther        200000000.0     700059566.0   \n",
       "6  Jurassic World: Fallen Kingdom        170000000.0     417719760.0   \n",
       "7                          Frozen        150000000.0     400738009.0   \n",
       "8            Beauty and the Beast        160000000.0     504014165.0   \n",
       "9                   Incredibles 2        200000000.0     608581744.0   \n",
       "\n",
       "   worldwide_gross  year   movie_id                      genres  \\\n",
       "0     2.048134e+09  2018  tt4154756     Action,Adventure,Sci-Fi   \n",
       "1     1.648855e+09  2015  tt0369610     Action,Adventure,Sci-Fi   \n",
       "2     1.518723e+09  2015  tt2820852       Action,Crime,Thriller   \n",
       "3     1.517936e+09  2012  tt0848228     Action,Adventure,Sci-Fi   \n",
       "4     1.403014e+09  2015  tt2395427     Action,Adventure,Sci-Fi   \n",
       "5     1.348258e+09  2018  tt1825683     Action,Adventure,Sci-Fi   \n",
       "6     1.305773e+09  2018  tt4881806     Action,Adventure,Sci-Fi   \n",
       "7     1.272470e+09  2013  tt2294629  Adventure,Animation,Comedy   \n",
       "8     1.259200e+09  2017  tt2771200      Family,Fantasy,Musical   \n",
       "9     1.242521e+09  2018  tt3606756  Action,Adventure,Animation   \n",
       "\n",
       "   averagerating  numvotes  \n",
       "0            8.5    670926  \n",
       "1            7.0    539338  \n",
       "2            7.2    335074  \n",
       "3            8.1   1183655  \n",
       "4            7.3    665594  \n",
       "5            7.3    516148  \n",
       "6            6.2    219125  \n",
       "7            7.5    516998  \n",
       "8            7.2    238325  \n",
       "9            7.7    203510  "
      ]
     },
     "execution_count": 106,
     "metadata": {},
     "output_type": "execute_result"
    }
   ],
   "source": [
    "imdb_budget = imdb_budget.sort_values(['worldwide_gross','averagerating','numvotes'], ascending=[False,False,False]).drop_duplicates()\n",
    "imdb_budget.head(10)"
   ]
  },
  {
   "cell_type": "markdown",
   "metadata": {},
   "source": [
    "Created a dataframe called directors_writers that joins the directors and persons tables and groups them by the person id.We would then display the first 5 rows of the dataframe and picked only those that can still direct a movie physically"
   ]
  },
  {
   "cell_type": "code",
   "execution_count": 107,
   "metadata": {},
   "outputs": [
    {
     "data": {
      "text/html": [
       "<div>\n",
       "<style scoped>\n",
       "    .dataframe tbody tr th:only-of-type {\n",
       "        vertical-align: middle;\n",
       "    }\n",
       "\n",
       "    .dataframe tbody tr th {\n",
       "        vertical-align: top;\n",
       "    }\n",
       "\n",
       "    .dataframe thead th {\n",
       "        text-align: right;\n",
       "    }\n",
       "</style>\n",
       "<table border=\"1\" class=\"dataframe\">\n",
       "  <thead>\n",
       "    <tr style=\"text-align: right;\">\n",
       "      <th></th>\n",
       "      <th>movie_id</th>\n",
       "      <th>person_id</th>\n",
       "      <th>primary_name</th>\n",
       "      <th>birth_year</th>\n",
       "      <th>death_year</th>\n",
       "      <th>primary_profession</th>\n",
       "    </tr>\n",
       "  </thead>\n",
       "  <tbody>\n",
       "    <tr>\n",
       "      <th>0</th>\n",
       "      <td>tt0069049</td>\n",
       "      <td>nm0000080</td>\n",
       "      <td>Orson Welles</td>\n",
       "      <td>1915.0</td>\n",
       "      <td>1985.0</td>\n",
       "      <td>actor,director,writer</td>\n",
       "    </tr>\n",
       "    <tr>\n",
       "      <th>1</th>\n",
       "      <td>tt3715320</td>\n",
       "      <td>nm0000095</td>\n",
       "      <td>Woody Allen</td>\n",
       "      <td>1935.0</td>\n",
       "      <td>NaN</td>\n",
       "      <td>writer,director,actor</td>\n",
       "    </tr>\n",
       "    <tr>\n",
       "      <th>2</th>\n",
       "      <td>tt2239822</td>\n",
       "      <td>nm0000108</td>\n",
       "      <td>Luc Besson</td>\n",
       "      <td>1959.0</td>\n",
       "      <td>NaN</td>\n",
       "      <td>writer,producer,director</td>\n",
       "    </tr>\n",
       "    <tr>\n",
       "      <th>3</th>\n",
       "      <td>tt7657566</td>\n",
       "      <td>nm0000110</td>\n",
       "      <td>Kenneth Branagh</td>\n",
       "      <td>1960.0</td>\n",
       "      <td>NaN</td>\n",
       "      <td>actor,producer,director</td>\n",
       "    </tr>\n",
       "    <tr>\n",
       "      <th>4</th>\n",
       "      <td>tt1757678</td>\n",
       "      <td>nm0000116</td>\n",
       "      <td>James Cameron</td>\n",
       "      <td>1954.0</td>\n",
       "      <td>NaN</td>\n",
       "      <td>writer,producer,director</td>\n",
       "    </tr>\n",
       "    <tr>\n",
       "      <th>5</th>\n",
       "      <td>tt1369706</td>\n",
       "      <td>nm0000118</td>\n",
       "      <td>John Carpenter</td>\n",
       "      <td>1948.0</td>\n",
       "      <td>NaN</td>\n",
       "      <td>soundtrack,writer,music_department</td>\n",
       "    </tr>\n",
       "    <tr>\n",
       "      <th>6</th>\n",
       "      <td>tt1124035</td>\n",
       "      <td>nm0000123</td>\n",
       "      <td>George Clooney</td>\n",
       "      <td>1961.0</td>\n",
       "      <td>NaN</td>\n",
       "      <td>actor,producer,director</td>\n",
       "    </tr>\n",
       "    <tr>\n",
       "      <th>7</th>\n",
       "      <td>tt0872230</td>\n",
       "      <td>nm0000127</td>\n",
       "      <td>Wes Craven</td>\n",
       "      <td>1939.0</td>\n",
       "      <td>2015.0</td>\n",
       "      <td>writer,producer,director</td>\n",
       "    </tr>\n",
       "    <tr>\n",
       "      <th>8</th>\n",
       "      <td>tt3007512</td>\n",
       "      <td>nm0000128</td>\n",
       "      <td>Russell Crowe</td>\n",
       "      <td>1964.0</td>\n",
       "      <td>NaN</td>\n",
       "      <td>actor,soundtrack,producer</td>\n",
       "    </tr>\n",
       "    <tr>\n",
       "      <th>9</th>\n",
       "      <td>tt1595655</td>\n",
       "      <td>nm0000136</td>\n",
       "      <td>Johnny Depp</td>\n",
       "      <td>1963.0</td>\n",
       "      <td>NaN</td>\n",
       "      <td>actor,producer,soundtrack</td>\n",
       "    </tr>\n",
       "  </tbody>\n",
       "</table>\n",
       "</div>"
      ],
      "text/plain": [
       "    movie_id  person_id     primary_name  birth_year  death_year  \\\n",
       "0  tt0069049  nm0000080     Orson Welles      1915.0      1985.0   \n",
       "1  tt3715320  nm0000095      Woody Allen      1935.0         NaN   \n",
       "2  tt2239822  nm0000108       Luc Besson      1959.0         NaN   \n",
       "3  tt7657566  nm0000110  Kenneth Branagh      1960.0         NaN   \n",
       "4  tt1757678  nm0000116    James Cameron      1954.0         NaN   \n",
       "5  tt1369706  nm0000118   John Carpenter      1948.0         NaN   \n",
       "6  tt1124035  nm0000123   George Clooney      1961.0         NaN   \n",
       "7  tt0872230  nm0000127       Wes Craven      1939.0      2015.0   \n",
       "8  tt3007512  nm0000128    Russell Crowe      1964.0         NaN   \n",
       "9  tt1595655  nm0000136      Johnny Depp      1963.0         NaN   \n",
       "\n",
       "                   primary_profession  \n",
       "0               actor,director,writer  \n",
       "1               writer,director,actor  \n",
       "2            writer,producer,director  \n",
       "3             actor,producer,director  \n",
       "4            writer,producer,director  \n",
       "5  soundtrack,writer,music_department  \n",
       "6             actor,producer,director  \n",
       "7            writer,producer,director  \n",
       "8           actor,soundtrack,producer  \n",
       "9           actor,producer,soundtrack  "
      ]
     },
     "execution_count": 107,
     "metadata": {},
     "output_type": "execute_result"
    }
   ],
   "source": [
    "directors_writers = readsql(\"\"\"\n",
    "        SELECT *\n",
    "        FROM directors\n",
    "        JOIN persons USING(person_id)\n",
    "        GROUP BY person_id\n",
    "\"\"\")\n",
    "directors_writers.head(10)"
   ]
  },
  {
   "cell_type": "markdown",
   "metadata": {},
   "source": [
    " Merged it to movie budget dataframe"
   ]
  },
  {
   "cell_type": "code",
   "execution_count": 108,
   "metadata": {},
   "outputs": [
    {
     "data": {
      "text/html": [
       "<div>\n",
       "<style scoped>\n",
       "    .dataframe tbody tr th:only-of-type {\n",
       "        vertical-align: middle;\n",
       "    }\n",
       "\n",
       "    .dataframe tbody tr th {\n",
       "        vertical-align: top;\n",
       "    }\n",
       "\n",
       "    .dataframe thead th {\n",
       "        text-align: right;\n",
       "    }\n",
       "</style>\n",
       "<table border=\"1\" class=\"dataframe\">\n",
       "  <thead>\n",
       "    <tr style=\"text-align: right;\">\n",
       "      <th></th>\n",
       "      <th>movie</th>\n",
       "      <th>production_budget</th>\n",
       "      <th>domestic_gross</th>\n",
       "      <th>worldwide_gross</th>\n",
       "      <th>year</th>\n",
       "      <th>movie_id</th>\n",
       "      <th>genres</th>\n",
       "      <th>averagerating</th>\n",
       "      <th>numvotes</th>\n",
       "      <th>person_id</th>\n",
       "      <th>primary_name</th>\n",
       "      <th>birth_year</th>\n",
       "      <th>death_year</th>\n",
       "      <th>primary_profession</th>\n",
       "    </tr>\n",
       "  </thead>\n",
       "  <tbody>\n",
       "    <tr>\n",
       "      <th>0</th>\n",
       "      <td>Avengers: Age of Ultron</td>\n",
       "      <td>330600000.0</td>\n",
       "      <td>459005868.0</td>\n",
       "      <td>1.403014e+09</td>\n",
       "      <td>2015</td>\n",
       "      <td>tt2395427</td>\n",
       "      <td>Action,Adventure,Sci-Fi</td>\n",
       "      <td>7.3</td>\n",
       "      <td>665594</td>\n",
       "      <td>nm0923736</td>\n",
       "      <td>Joss Whedon</td>\n",
       "      <td>1964.0</td>\n",
       "      <td>NaN</td>\n",
       "      <td>writer,producer,director</td>\n",
       "    </tr>\n",
       "    <tr>\n",
       "      <th>1</th>\n",
       "      <td>Jurassic World: Fallen Kingdom</td>\n",
       "      <td>170000000.0</td>\n",
       "      <td>417719760.0</td>\n",
       "      <td>1.305773e+09</td>\n",
       "      <td>2018</td>\n",
       "      <td>tt4881806</td>\n",
       "      <td>Action,Adventure,Sci-Fi</td>\n",
       "      <td>6.2</td>\n",
       "      <td>219125</td>\n",
       "      <td>nm1291105</td>\n",
       "      <td>J.A. Bayona</td>\n",
       "      <td>1975.0</td>\n",
       "      <td>NaN</td>\n",
       "      <td>director,writer,actor</td>\n",
       "    </tr>\n",
       "    <tr>\n",
       "      <th>2</th>\n",
       "      <td>Frozen</td>\n",
       "      <td>150000000.0</td>\n",
       "      <td>400738009.0</td>\n",
       "      <td>1.272470e+09</td>\n",
       "      <td>2013</td>\n",
       "      <td>tt2294629</td>\n",
       "      <td>Adventure,Animation,Comedy</td>\n",
       "      <td>7.5</td>\n",
       "      <td>516998</td>\n",
       "      <td>nm0118333</td>\n",
       "      <td>Chris Buck</td>\n",
       "      <td>1958.0</td>\n",
       "      <td>NaN</td>\n",
       "      <td>animation_department,director,writer</td>\n",
       "    </tr>\n",
       "    <tr>\n",
       "      <th>3</th>\n",
       "      <td>Frozen</td>\n",
       "      <td>150000000.0</td>\n",
       "      <td>400738009.0</td>\n",
       "      <td>1.272470e+09</td>\n",
       "      <td>2013</td>\n",
       "      <td>tt2294629</td>\n",
       "      <td>Adventure,Animation,Comedy</td>\n",
       "      <td>7.5</td>\n",
       "      <td>516998</td>\n",
       "      <td>nm1601644</td>\n",
       "      <td>Jennifer Lee</td>\n",
       "      <td>1971.0</td>\n",
       "      <td>NaN</td>\n",
       "      <td>writer,miscellaneous,producer</td>\n",
       "    </tr>\n",
       "    <tr>\n",
       "      <th>4</th>\n",
       "      <td>Captain America: Civil War</td>\n",
       "      <td>250000000.0</td>\n",
       "      <td>408084349.0</td>\n",
       "      <td>1.140069e+09</td>\n",
       "      <td>2016</td>\n",
       "      <td>tt3498820</td>\n",
       "      <td>Action,Adventure,Sci-Fi</td>\n",
       "      <td>7.8</td>\n",
       "      <td>583507</td>\n",
       "      <td>nm0751577</td>\n",
       "      <td>Anthony Russo</td>\n",
       "      <td>1970.0</td>\n",
       "      <td>NaN</td>\n",
       "      <td>producer,director,writer</td>\n",
       "    </tr>\n",
       "  </tbody>\n",
       "</table>\n",
       "</div>"
      ],
      "text/plain": [
       "                            movie  production_budget  domestic_gross  \\\n",
       "0         Avengers: Age of Ultron        330600000.0     459005868.0   \n",
       "1  Jurassic World: Fallen Kingdom        170000000.0     417719760.0   \n",
       "2                          Frozen        150000000.0     400738009.0   \n",
       "3                          Frozen        150000000.0     400738009.0   \n",
       "4      Captain America: Civil War        250000000.0     408084349.0   \n",
       "\n",
       "   worldwide_gross  year   movie_id                      genres  \\\n",
       "0     1.403014e+09  2015  tt2395427     Action,Adventure,Sci-Fi   \n",
       "1     1.305773e+09  2018  tt4881806     Action,Adventure,Sci-Fi   \n",
       "2     1.272470e+09  2013  tt2294629  Adventure,Animation,Comedy   \n",
       "3     1.272470e+09  2013  tt2294629  Adventure,Animation,Comedy   \n",
       "4     1.140069e+09  2016  tt3498820     Action,Adventure,Sci-Fi   \n",
       "\n",
       "   averagerating  numvotes  person_id   primary_name  birth_year  death_year  \\\n",
       "0            7.3    665594  nm0923736    Joss Whedon      1964.0         NaN   \n",
       "1            6.2    219125  nm1291105    J.A. Bayona      1975.0         NaN   \n",
       "2            7.5    516998  nm0118333     Chris Buck      1958.0         NaN   \n",
       "3            7.5    516998  nm1601644   Jennifer Lee      1971.0         NaN   \n",
       "4            7.8    583507  nm0751577  Anthony Russo      1970.0         NaN   \n",
       "\n",
       "                     primary_profession  \n",
       "0              writer,producer,director  \n",
       "1                 director,writer,actor  \n",
       "2  animation_department,director,writer  \n",
       "3         writer,miscellaneous,producer  \n",
       "4              producer,director,writer  "
      ]
     },
     "execution_count": 108,
     "metadata": {},
     "output_type": "execute_result"
    }
   ],
   "source": [
    "movie_budgets = pd.merge(imdb_budget,directors_writers,on='movie_id')\n",
    "movie_budgets.head()"
   ]
  },
  {
   "cell_type": "markdown",
   "metadata": {},
   "source": []
  },
  {
   "cell_type": "code",
   "execution_count": 109,
   "metadata": {},
   "outputs": [
    {
     "data": {
      "text/html": [
       "<div>\n",
       "<style scoped>\n",
       "    .dataframe tbody tr th:only-of-type {\n",
       "        vertical-align: middle;\n",
       "    }\n",
       "\n",
       "    .dataframe tbody tr th {\n",
       "        vertical-align: top;\n",
       "    }\n",
       "\n",
       "    .dataframe thead th {\n",
       "        text-align: right;\n",
       "    }\n",
       "</style>\n",
       "<table border=\"1\" class=\"dataframe\">\n",
       "  <thead>\n",
       "    <tr style=\"text-align: right;\">\n",
       "      <th></th>\n",
       "      <th>movie</th>\n",
       "      <th>primary_name</th>\n",
       "    </tr>\n",
       "  </thead>\n",
       "  <tbody>\n",
       "    <tr>\n",
       "      <th>0</th>\n",
       "      <td>Avengers: Age of Ultron</td>\n",
       "      <td>[Joss Whedon]</td>\n",
       "    </tr>\n",
       "    <tr>\n",
       "      <th>1</th>\n",
       "      <td>Captain America: Civil War</td>\n",
       "      <td>[Anthony Russo, Joe Russo]</td>\n",
       "    </tr>\n",
       "    <tr>\n",
       "      <th>2</th>\n",
       "      <td>Captain Marvel</td>\n",
       "      <td>[Ryan Fleck, Anna Boden]</td>\n",
       "    </tr>\n",
       "    <tr>\n",
       "      <th>3</th>\n",
       "      <td>Despicable Me 3</td>\n",
       "      <td>[Kyle Balda]</td>\n",
       "    </tr>\n",
       "    <tr>\n",
       "      <th>4</th>\n",
       "      <td>Frozen</td>\n",
       "      <td>[Chris Buck, Jennifer Lee]</td>\n",
       "    </tr>\n",
       "    <tr>\n",
       "      <th>5</th>\n",
       "      <td>Jurassic World: Fallen Kingdom</td>\n",
       "      <td>[J.A. Bayona]</td>\n",
       "    </tr>\n",
       "    <tr>\n",
       "      <th>6</th>\n",
       "      <td>Pirates of the Caribbean: On Stranger Tides</td>\n",
       "      <td>[Rob Marshall]</td>\n",
       "    </tr>\n",
       "    <tr>\n",
       "      <th>7</th>\n",
       "      <td>Skyfall</td>\n",
       "      <td>[Sam Mendes]</td>\n",
       "    </tr>\n",
       "    <tr>\n",
       "      <th>8</th>\n",
       "      <td>The Dark Knight Rises</td>\n",
       "      <td>[Christopher Nolan]</td>\n",
       "    </tr>\n",
       "    <tr>\n",
       "      <th>9</th>\n",
       "      <td>Transformers: Dark of the Moon</td>\n",
       "      <td>[Michael Bay]</td>\n",
       "    </tr>\n",
       "  </tbody>\n",
       "</table>\n",
       "</div>"
      ],
      "text/plain": [
       "                                         movie                primary_name\n",
       "0                      Avengers: Age of Ultron               [Joss Whedon]\n",
       "1                   Captain America: Civil War  [Anthony Russo, Joe Russo]\n",
       "2                               Captain Marvel    [Ryan Fleck, Anna Boden]\n",
       "3                              Despicable Me 3                [Kyle Balda]\n",
       "4                                       Frozen  [Chris Buck, Jennifer Lee]\n",
       "5               Jurassic World: Fallen Kingdom               [J.A. Bayona]\n",
       "6  Pirates of the Caribbean: On Stranger Tides              [Rob Marshall]\n",
       "7                                      Skyfall                [Sam Mendes]\n",
       "8                        The Dark Knight Rises         [Christopher Nolan]\n",
       "9               Transformers: Dark of the Moon               [Michael Bay]"
      ]
     },
     "execution_count": 109,
     "metadata": {},
     "output_type": "execute_result"
    }
   ],
   "source": [
    "top_10_directors = movie_budgets.loc[:12,['movie','primary_name']]\n",
    "top_10_directors = top_10_directors.groupby('movie')['primary_name'].agg(list).reset_index()\n",
    "top_10_directors"
   ]
  },
  {
   "cell_type": "markdown",
   "metadata": {},
   "source": [
    "# **Data Analysis**"
   ]
  },
  {
   "cell_type": "markdown",
   "metadata": {},
   "source": [
    "<img src=\"Images\\analysis.jpg\" alt=\"in image folder\" style=\"width:600px;height:300px;\">\n"
   ]
  },
  {
   "cell_type": "markdown",
   "metadata": {},
   "source": [
    "Using the imdb_budget dataframe the top 10 movies based off of worldwise_gross revenue is obtained and we'll assign the dataframe to top_10_movies_revenue.Since the movie_budgets are already assigned as so we'd just take the first 10 movies"
   ]
  },
  {
   "cell_type": "code",
   "execution_count": 110,
   "metadata": {},
   "outputs": [
    {
     "data": {
      "text/html": [
       "<div>\n",
       "<style scoped>\n",
       "    .dataframe tbody tr th:only-of-type {\n",
       "        vertical-align: middle;\n",
       "    }\n",
       "\n",
       "    .dataframe tbody tr th {\n",
       "        vertical-align: top;\n",
       "    }\n",
       "\n",
       "    .dataframe thead th {\n",
       "        text-align: right;\n",
       "    }\n",
       "</style>\n",
       "<table border=\"1\" class=\"dataframe\">\n",
       "  <thead>\n",
       "    <tr style=\"text-align: right;\">\n",
       "      <th></th>\n",
       "      <th>movie</th>\n",
       "      <th>production_budget</th>\n",
       "      <th>worldwide_gross</th>\n",
       "    </tr>\n",
       "  </thead>\n",
       "  <tbody>\n",
       "    <tr>\n",
       "      <th>0</th>\n",
       "      <td>Avengers: Infinity War</td>\n",
       "      <td>300000000.0</td>\n",
       "      <td>2.048134e+09</td>\n",
       "    </tr>\n",
       "    <tr>\n",
       "      <th>1</th>\n",
       "      <td>Jurassic World</td>\n",
       "      <td>215000000.0</td>\n",
       "      <td>1.648855e+09</td>\n",
       "    </tr>\n",
       "    <tr>\n",
       "      <th>2</th>\n",
       "      <td>Furious 7</td>\n",
       "      <td>190000000.0</td>\n",
       "      <td>1.518723e+09</td>\n",
       "    </tr>\n",
       "    <tr>\n",
       "      <th>3</th>\n",
       "      <td>The Avengers</td>\n",
       "      <td>225000000.0</td>\n",
       "      <td>1.517936e+09</td>\n",
       "    </tr>\n",
       "    <tr>\n",
       "      <th>4</th>\n",
       "      <td>Avengers: Age of Ultron</td>\n",
       "      <td>330600000.0</td>\n",
       "      <td>1.403014e+09</td>\n",
       "    </tr>\n",
       "    <tr>\n",
       "      <th>5</th>\n",
       "      <td>Black Panther</td>\n",
       "      <td>200000000.0</td>\n",
       "      <td>1.348258e+09</td>\n",
       "    </tr>\n",
       "    <tr>\n",
       "      <th>6</th>\n",
       "      <td>Jurassic World: Fallen Kingdom</td>\n",
       "      <td>170000000.0</td>\n",
       "      <td>1.305773e+09</td>\n",
       "    </tr>\n",
       "    <tr>\n",
       "      <th>7</th>\n",
       "      <td>Frozen</td>\n",
       "      <td>150000000.0</td>\n",
       "      <td>1.272470e+09</td>\n",
       "    </tr>\n",
       "    <tr>\n",
       "      <th>8</th>\n",
       "      <td>Beauty and the Beast</td>\n",
       "      <td>160000000.0</td>\n",
       "      <td>1.259200e+09</td>\n",
       "    </tr>\n",
       "    <tr>\n",
       "      <th>9</th>\n",
       "      <td>Incredibles 2</td>\n",
       "      <td>200000000.0</td>\n",
       "      <td>1.242521e+09</td>\n",
       "    </tr>\n",
       "  </tbody>\n",
       "</table>\n",
       "</div>"
      ],
      "text/plain": [
       "                            movie  production_budget  worldwide_gross\n",
       "0          Avengers: Infinity War        300000000.0     2.048134e+09\n",
       "1                  Jurassic World        215000000.0     1.648855e+09\n",
       "2                       Furious 7        190000000.0     1.518723e+09\n",
       "3                    The Avengers        225000000.0     1.517936e+09\n",
       "4         Avengers: Age of Ultron        330600000.0     1.403014e+09\n",
       "5                   Black Panther        200000000.0     1.348258e+09\n",
       "6  Jurassic World: Fallen Kingdom        170000000.0     1.305773e+09\n",
       "7                          Frozen        150000000.0     1.272470e+09\n",
       "8            Beauty and the Beast        160000000.0     1.259200e+09\n",
       "9                   Incredibles 2        200000000.0     1.242521e+09"
      ]
     },
     "execution_count": 110,
     "metadata": {},
     "output_type": "execute_result"
    }
   ],
   "source": [
    "top_10_movies_revenue = imdb_budget.loc[:9,['movie','production_budget','worldwide_gross']]\n",
    "top_10_movies_revenue"
   ]
  },
  {
   "cell_type": "markdown",
   "metadata": {},
   "source": [
    "Lets look at the general statistics of the top_10_movies_revenue dataframe."
   ]
  },
  {
   "cell_type": "code",
   "execution_count": 111,
   "metadata": {},
   "outputs": [
    {
     "data": {
      "text/html": [
       "<div>\n",
       "<style scoped>\n",
       "    .dataframe tbody tr th:only-of-type {\n",
       "        vertical-align: middle;\n",
       "    }\n",
       "\n",
       "    .dataframe tbody tr th {\n",
       "        vertical-align: top;\n",
       "    }\n",
       "\n",
       "    .dataframe thead th {\n",
       "        text-align: right;\n",
       "    }\n",
       "</style>\n",
       "<table border=\"1\" class=\"dataframe\">\n",
       "  <thead>\n",
       "    <tr style=\"text-align: right;\">\n",
       "      <th></th>\n",
       "      <th>production_budget</th>\n",
       "      <th>worldwide_gross</th>\n",
       "    </tr>\n",
       "  </thead>\n",
       "  <tbody>\n",
       "    <tr>\n",
       "      <th>count</th>\n",
       "      <td>1.000000e+01</td>\n",
       "      <td>1.000000e+01</td>\n",
       "    </tr>\n",
       "    <tr>\n",
       "      <th>mean</th>\n",
       "      <td>2.140600e+08</td>\n",
       "      <td>1.456488e+09</td>\n",
       "    </tr>\n",
       "    <tr>\n",
       "      <th>std</th>\n",
       "      <td>5.871733e+07</td>\n",
       "      <td>2.473313e+08</td>\n",
       "    </tr>\n",
       "    <tr>\n",
       "      <th>min</th>\n",
       "      <td>1.500000e+08</td>\n",
       "      <td>1.242521e+09</td>\n",
       "    </tr>\n",
       "    <tr>\n",
       "      <th>25%</th>\n",
       "      <td>1.750000e+08</td>\n",
       "      <td>1.280796e+09</td>\n",
       "    </tr>\n",
       "    <tr>\n",
       "      <th>50%</th>\n",
       "      <td>2.000000e+08</td>\n",
       "      <td>1.375636e+09</td>\n",
       "    </tr>\n",
       "    <tr>\n",
       "      <th>75%</th>\n",
       "      <td>2.225000e+08</td>\n",
       "      <td>1.518526e+09</td>\n",
       "    </tr>\n",
       "    <tr>\n",
       "      <th>max</th>\n",
       "      <td>3.306000e+08</td>\n",
       "      <td>2.048134e+09</td>\n",
       "    </tr>\n",
       "  </tbody>\n",
       "</table>\n",
       "</div>"
      ],
      "text/plain": [
       "       production_budget  worldwide_gross\n",
       "count       1.000000e+01     1.000000e+01\n",
       "mean        2.140600e+08     1.456488e+09\n",
       "std         5.871733e+07     2.473313e+08\n",
       "min         1.500000e+08     1.242521e+09\n",
       "25%         1.750000e+08     1.280796e+09\n",
       "50%         2.000000e+08     1.375636e+09\n",
       "75%         2.225000e+08     1.518526e+09\n",
       "max         3.306000e+08     2.048134e+09"
      ]
     },
     "execution_count": 111,
     "metadata": {},
     "output_type": "execute_result"
    }
   ],
   "source": [
    "top_10_movies_revenue.describe()"
   ]
  },
  {
   "cell_type": "markdown",
   "metadata": {},
   "source": [
    "Finding the mean of the production budget from the top 10 movies revenue dataframe above using .mean() function"
   ]
  },
  {
   "cell_type": "code",
   "execution_count": 112,
   "metadata": {},
   "outputs": [
    {
     "data": {
      "text/plain": [
       "214060000.0"
      ]
     },
     "execution_count": 112,
     "metadata": {},
     "output_type": "execute_result"
    }
   ],
   "source": [
    "mean_production_budget = top_10_movies_revenue['production_budget'].mean()\n",
    "mean_production_budget"
   ]
  },
  {
   "cell_type": "markdown",
   "metadata": {},
   "source": [
    "Finding the genres of the movies above to see which genres are the most profitable when creating a movie.By creating a dataframe called top_10_genres and assigning the genres from the top 10 movies it'll be easier to find the most profitable genres"
   ]
  },
  {
   "cell_type": "code",
   "execution_count": 113,
   "metadata": {},
   "outputs": [
    {
     "data": {
      "text/plain": [
       "Counter({'Action': 9,\n",
       "         'Adventure': 8,\n",
       "         'Sci-Fi': 6,\n",
       "         'Crime': 2,\n",
       "         'Thriller': 2,\n",
       "         'Animation': 2,\n",
       "         'Comedy': 1,\n",
       "         'Family': 1,\n",
       "         'Fantasy': 1,\n",
       "         'Musical': 1})"
      ]
     },
     "execution_count": 113,
     "metadata": {},
     "output_type": "execute_result"
    }
   ],
   "source": [
    "genre_list = imdb_budget.loc[:10,'genres'].str.split(',').to_list()\n",
    "genre_list_new=[]\n",
    "for listt in genre_list:\n",
    "    for genre in listt:\n",
    "        genre_list_new.append(genre)\n",
    "from collections import Counter\n",
    "genre_counts = Counter(genre_list_new)\n",
    "genre_counts"
   ]
  },
  {
   "cell_type": "markdown",
   "metadata": {},
   "source": [
    "Above is a list of the top 10 genres arranged in order and the number of times each genre appears in the top 10 movies based off of revenue .It seems that Action genre is the most popular and profitable genre followed by Adventure then Sci-Fi so when making a movie it would be advised to probably stick to those three genres for the most profit\n",
    "\n",
    "Taking a look at the directors of the top 10 movies is really important when coming to making a movie since it'll better allow the company to choose the right man for the job since looking at their past success gives the confidence required when coming up with an original and successfull movie.Below a dataframe called top_10_movie direcotors will be created and it'll have the names of the top 10 movie direcors and the movies theyre known for"
   ]
  },
  {
   "cell_type": "code",
   "execution_count": 114,
   "metadata": {},
   "outputs": [
    {
     "data": {
      "text/html": [
       "<div>\n",
       "<style scoped>\n",
       "    .dataframe tbody tr th:only-of-type {\n",
       "        vertical-align: middle;\n",
       "    }\n",
       "\n",
       "    .dataframe tbody tr th {\n",
       "        vertical-align: top;\n",
       "    }\n",
       "\n",
       "    .dataframe thead th {\n",
       "        text-align: right;\n",
       "    }\n",
       "</style>\n",
       "<table border=\"1\" class=\"dataframe\">\n",
       "  <thead>\n",
       "    <tr style=\"text-align: right;\">\n",
       "      <th></th>\n",
       "      <th>movie</th>\n",
       "      <th>Directors</th>\n",
       "    </tr>\n",
       "  </thead>\n",
       "  <tbody>\n",
       "    <tr>\n",
       "      <th>0</th>\n",
       "      <td>Avengers: Age of Ultron</td>\n",
       "      <td>Joss Whedon</td>\n",
       "    </tr>\n",
       "    <tr>\n",
       "      <th>1</th>\n",
       "      <td>Captain America: Civil War</td>\n",
       "      <td>Anthony Russo,Joe Russo</td>\n",
       "    </tr>\n",
       "    <tr>\n",
       "      <th>2</th>\n",
       "      <td>Captain Marvel</td>\n",
       "      <td>Ryan Fleck,Anna Boden</td>\n",
       "    </tr>\n",
       "    <tr>\n",
       "      <th>3</th>\n",
       "      <td>Despicable Me 3</td>\n",
       "      <td>Kyle Balda,Eric Guillon</td>\n",
       "    </tr>\n",
       "    <tr>\n",
       "      <th>4</th>\n",
       "      <td>Frozen</td>\n",
       "      <td>Chris Buck,Jennifer Lee</td>\n",
       "    </tr>\n",
       "    <tr>\n",
       "      <th>5</th>\n",
       "      <td>Jurassic World: Fallen Kingdom</td>\n",
       "      <td>J.A. Bayona</td>\n",
       "    </tr>\n",
       "    <tr>\n",
       "      <th>6</th>\n",
       "      <td>Pirates of the Caribbean: On Stranger Tides</td>\n",
       "      <td>Rob Marshall</td>\n",
       "    </tr>\n",
       "    <tr>\n",
       "      <th>7</th>\n",
       "      <td>Skyfall</td>\n",
       "      <td>Sam Mendes</td>\n",
       "    </tr>\n",
       "    <tr>\n",
       "      <th>8</th>\n",
       "      <td>The Dark Knight Rises</td>\n",
       "      <td>Christopher Nolan</td>\n",
       "    </tr>\n",
       "    <tr>\n",
       "      <th>9</th>\n",
       "      <td>Transformers: Dark of the Moon</td>\n",
       "      <td>Michael Bay</td>\n",
       "    </tr>\n",
       "  </tbody>\n",
       "</table>\n",
       "</div>"
      ],
      "text/plain": [
       "                                         movie                Directors\n",
       "0                      Avengers: Age of Ultron              Joss Whedon\n",
       "1                   Captain America: Civil War  Anthony Russo,Joe Russo\n",
       "2                               Captain Marvel    Ryan Fleck,Anna Boden\n",
       "3                              Despicable Me 3  Kyle Balda,Eric Guillon\n",
       "4                                       Frozen  Chris Buck,Jennifer Lee\n",
       "5               Jurassic World: Fallen Kingdom              J.A. Bayona\n",
       "6  Pirates of the Caribbean: On Stranger Tides             Rob Marshall\n",
       "7                                      Skyfall               Sam Mendes\n",
       "8                        The Dark Knight Rises        Christopher Nolan\n",
       "9               Transformers: Dark of the Moon              Michael Bay"
      ]
     },
     "execution_count": 114,
     "metadata": {},
     "output_type": "execute_result"
    }
   ],
   "source": [
    "top_10_movie_directors = movie_budgets.loc[:13, ['primary_name','movie']]\n",
    "top_10_movie_directors.rename(columns={'primary_name':'Directors'},inplace=True)\n",
    "top_10_movie_directors = top_10_movie_directors.groupby('movie')['Directors'].agg(list).reset_index()\n",
    "top_10_movie_directors['Directors'] = top_10_movie_directors['Directors'].apply(lambda x: ','.join(x))\n",
    "top_10_movie_directors"
   ]
  },
  {
   "cell_type": "markdown",
   "metadata": {},
   "source": [
    "So by hiring the top 10 movie directors to make a new movie the chances of success of said movie would be high"
   ]
  },
  {
   "cell_type": "markdown",
   "metadata": {},
   "source": [
    "# **Data Visualization**"
   ]
  },
  {
   "cell_type": "markdown",
   "metadata": {},
   "source": [
    "<img src=\"Images/imagesvisualization.png\" alt=\"in image folder\" style=\"width:600px;height:300px;\">"
   ]
  },
  {
   "cell_type": "markdown",
   "metadata": {},
   "source": [
    "Represent the top ten movies and the world gross revenue in billions of dollars from the highest to the lowest using a bar chart"
   ]
  },
  {
   "cell_type": "code",
   "execution_count": 117,
   "metadata": {},
   "outputs": [
    {
     "data": {
      "image/png": "[encoded data removed]",
      "text/plain": [
       "<Figure size 864x576 with 1 Axes>"
      ]
     },
     "metadata": {},
     "output_type": "display_data"
    }
   ],
   "source": [
    "movie_revenue, ax = plt.subplots(figsize=(12,8));\n",
    "sns.set_style('darkgrid')\n",
    "sns.barplot(x=top_10_movies_revenue['movie'], y=top_10_movies_revenue['worldwide_gross']);\n",
    "ax.set_xlabel('Movie Title');\n",
    "ax.set_ylabel('WorldWide Gross Revenue Billions');\n",
    "ax.set_title('Top 10 Movies based on Revenue');\n",
    "sns.set_style('darkgrid')\n",
    "plt.xticks(rotation = 75);\n",
    "plt.show();"
   ]
  },
  {
   "cell_type": "markdown",
   "metadata": {},
   "source": [
    "Shown below is a pie chart to show the distrbution of the top 10 movies and bar plot of the top ten profitable movie genres and the number of times they appeared on the top ten movie list"
   ]
  },
  {
   "cell_type": "code",
   "execution_count": 119,
   "metadata": {},
   "outputs": [
    {
     "data": {
      "image/png": "[encoded data removed]",
      "text/plain": [
       "<Figure size 720x432 with 1 Axes>"
      ]
     },
     "metadata": {},
     "output_type": "display_data"
    }
   ],
   "source": [
    "\n",
    "\n",
    "# Data preparation\n",
    "genree = list(genre_counts.keys())\n",
    "genre_no = list(genre_counts.values())\n",
    "\n",
    "# Plotting the pie chart\n",
    "plt.figure(figsize=(10, 6))\n",
    "plt.pie(genre_no, labels=genree, autopct='%1.1f%%', startangle=140)\n",
    "plt.axis('equal')  # Equal aspect ratio ensures that pie is drawn as a circle\n",
    "plt.title('Top 10 Movie Genres')\n",
    "\n",
    "# Adding a legend\n",
    "plt.legend(title='Genres', loc='upper right')\n",
    "plt.show()\n"
   ]
  },
  {
   "cell_type": "code",
   "execution_count": 120,
   "metadata": {},
   "outputs": [
    {
     "data": {
      "text/plain": [
       "<function matplotlib.pyplot.show(close=None, block=None)>"
      ]
     },
     "execution_count": 120,
     "metadata": {},
     "output_type": "execute_result"
    },
    {
     "data": {
      "image/png": "[encoded data removed]",
      "text/plain": [
       "<Figure size 720x432 with 1 Axes>"
      ]
     },
     "metadata": {},
     "output_type": "display_data"
    }
   ],
   "source": [
    "top_10_genre, ax = plt.subplots(figsize=(10,6))\n",
    "genree = list(genre_counts.keys())\n",
    "genre_no = list(genre_counts.values())\n",
    "sns.set_style('darkgrid')\n",
    "sns.barplot(x=genree, y=genre_no)\n",
    "ax.set_xlabel('Genres')\n",
    "ax.set_ylabel('Counts in top 10 Movies')\n",
    "ax.set_title('Top 10 Movie Genres')\n",
    "plt.show"
   ]
  },
  {
   "cell_type": "markdown",
   "metadata": {},
   "source": [
    "creating a scatter plot to better visualize the relationship "
   ]
  },
  {
   "cell_type": "code",
   "execution_count": 129,
   "metadata": {},
   "outputs": [
    {
     "data": {
      "image/png": "[encoded data removed]",
      "text/plain": [
       "<Figure size 720x432 with 1 Axes>"
      ]
     },
     "metadata": {},
     "output_type": "display_data"
    }
   ],
   "source": [
    "import seaborn as sns\n",
    "\n",
    "# Set up the scatter plot\n",
    "plt.figure(figsize=(10, 6))\n",
    "\n",
    "# Create scatter plot\n",
    "plt.scatter(genree, genre_no, color='orange', s=100)\n",
    "\n",
    "# Set labels and title\n",
    "plt.xlabel('Genres')\n",
    "plt.ylabel('Counts in top 10 Movies')\n",
    "plt.title('Top 10 Movie Genres')\n",
    "\n",
    "# Show plot\n",
    "plt.show()"
   ]
  },
  {
   "cell_type": "markdown",
   "metadata": {},
   "source": [
    "Below is the table of the top ten movie directors of each movie-top_10_movie_directors"
   ]
  },
  {
   "cell_type": "code",
   "execution_count": 121,
   "metadata": {},
   "outputs": [
    {
     "data": {
      "text/html": [
       "<div>\n",
       "<style scoped>\n",
       "    .dataframe tbody tr th:only-of-type {\n",
       "        vertical-align: middle;\n",
       "    }\n",
       "\n",
       "    .dataframe tbody tr th {\n",
       "        vertical-align: top;\n",
       "    }\n",
       "\n",
       "    .dataframe thead th {\n",
       "        text-align: right;\n",
       "    }\n",
       "</style>\n",
       "<table border=\"1\" class=\"dataframe\">\n",
       "  <thead>\n",
       "    <tr style=\"text-align: right;\">\n",
       "      <th></th>\n",
       "      <th>movie</th>\n",
       "      <th>Directors</th>\n",
       "    </tr>\n",
       "  </thead>\n",
       "  <tbody>\n",
       "    <tr>\n",
       "      <th>0</th>\n",
       "      <td>Avengers: Age of Ultron</td>\n",
       "      <td>Joss Whedon</td>\n",
       "    </tr>\n",
       "    <tr>\n",
       "      <th>1</th>\n",
       "      <td>Captain America: Civil War</td>\n",
       "      <td>Anthony Russo,Joe Russo</td>\n",
       "    </tr>\n",
       "    <tr>\n",
       "      <th>2</th>\n",
       "      <td>Captain Marvel</td>\n",
       "      <td>Ryan Fleck,Anna Boden</td>\n",
       "    </tr>\n",
       "    <tr>\n",
       "      <th>3</th>\n",
       "      <td>Despicable Me 3</td>\n",
       "      <td>Kyle Balda,Eric Guillon</td>\n",
       "    </tr>\n",
       "    <tr>\n",
       "      <th>4</th>\n",
       "      <td>Frozen</td>\n",
       "      <td>Chris Buck,Jennifer Lee</td>\n",
       "    </tr>\n",
       "    <tr>\n",
       "      <th>5</th>\n",
       "      <td>Jurassic World: Fallen Kingdom</td>\n",
       "      <td>J.A. Bayona</td>\n",
       "    </tr>\n",
       "    <tr>\n",
       "      <th>6</th>\n",
       "      <td>Pirates of the Caribbean: On Stranger Tides</td>\n",
       "      <td>Rob Marshall</td>\n",
       "    </tr>\n",
       "    <tr>\n",
       "      <th>7</th>\n",
       "      <td>Skyfall</td>\n",
       "      <td>Sam Mendes</td>\n",
       "    </tr>\n",
       "    <tr>\n",
       "      <th>8</th>\n",
       "      <td>The Dark Knight Rises</td>\n",
       "      <td>Christopher Nolan</td>\n",
       "    </tr>\n",
       "    <tr>\n",
       "      <th>9</th>\n",
       "      <td>Transformers: Dark of the Moon</td>\n",
       "      <td>Michael Bay</td>\n",
       "    </tr>\n",
       "  </tbody>\n",
       "</table>\n",
       "</div>"
      ],
      "text/plain": [
       "                                         movie                Directors\n",
       "0                      Avengers: Age of Ultron              Joss Whedon\n",
       "1                   Captain America: Civil War  Anthony Russo,Joe Russo\n",
       "2                               Captain Marvel    Ryan Fleck,Anna Boden\n",
       "3                              Despicable Me 3  Kyle Balda,Eric Guillon\n",
       "4                                       Frozen  Chris Buck,Jennifer Lee\n",
       "5               Jurassic World: Fallen Kingdom              J.A. Bayona\n",
       "6  Pirates of the Caribbean: On Stranger Tides             Rob Marshall\n",
       "7                                      Skyfall               Sam Mendes\n",
       "8                        The Dark Knight Rises        Christopher Nolan\n",
       "9               Transformers: Dark of the Moon              Michael Bay"
      ]
     },
     "execution_count": 121,
     "metadata": {},
     "output_type": "execute_result"
    }
   ],
   "source": [
    "top_10_movie_directors"
   ]
  },
  {
   "cell_type": "markdown",
   "metadata": {},
   "source": [
    "Below is a network plot of the movie Director Relationship"
   ]
  },
  {
   "cell_type": "code",
   "execution_count": 124,
   "metadata": {},
   "outputs": [
    {
     "name": "stderr",
     "output_type": "stream",
     "text": [
      "<ipython-input-124-ab55f0440759>:14: UserWarning: This figure includes Axes that are not compatible with tight_layout, so results might be incorrect.\n",
      "  plt.tight_layout()  # Adjust layout to prevent overlapping labels\n"
     ]
    },
    {
     "data": {
      "image/png": "[encoded data removed]",
      "text/plain": [
       "<Figure size 720x576 with 1 Axes>"
      ]
     },
     "metadata": {},
     "output_type": "display_data"
    }
   ],
   "source": [
    "import networkx as nx\n",
    "# Create the graph\n",
    "G = nx.from_pandas_edgelist(top_10_movie_directors, 'movie', 'Directors', create_using=nx.DiGraph())\n",
    "\n",
    "# Define the layout\n",
    "pos = nx.spring_layout(G, seed=42)  # Fixing seed for reproducibility\n",
    "\n",
    "# Draw the graph\n",
    "plt.figure(figsize=(10, 8))\n",
    "nx.draw(G, pos, with_labels=True, node_size=1500, node_color='orange', font_size=10, font_color='blue', font_weight='bold', edge_color='gray', width=1.0, arrowsize=10, alpha=0.8)\n",
    "\n",
    "# Adjust plot aesthetics\n",
    "plt.title(\"Movie-Director Relationship\", fontsize=14)\n",
    "plt.tight_layout()  # Adjust layout to prevent overlapping labels\n",
    "plt.axis('off')     # Hide axis\n",
    "\n",
    "# Show plot\n",
    "plt.show()"
   ]
  },
  {
   "cell_type": "markdown",
   "metadata": {},
   "source": [
    "Below is a bar plot of the production budget for the top ten movies"
   ]
  },
  {
   "cell_type": "code",
   "execution_count": 130,
   "metadata": {},
   "outputs": [
    {
     "data": {
      "image/png": "[encoded data removed]",
      "text/plain": [
       "<Figure size 720x432 with 1 Axes>"
      ]
     },
     "metadata": {},
     "output_type": "display_data"
    }
   ],
   "source": [
    "movie_budget, ax = plt.subplots(figsize=(10,6));\n",
    "sns.barplot(x=top_10_movies_revenue['movie'], y=top_10_movies_revenue['production_budget']);\n",
    "ax.set_xlabel('Movie Title');\n",
    "ax.set_ylabel('Production Budget');\n",
    "ax.set_title('Top 10 Movies Production Budget in Millions');\n",
    "sns.set_style('darkgrid')\n",
    "plt.xticks(rotation = 75);\n",
    "plt.show();"
   ]
  },
  {
   "cell_type": "markdown",
   "metadata": {},
   "source": [
    "Represent the relationship between movie production budget and worldwide gross of the top 10 movies by using a scatter plot."
   ]
  },
  {
   "cell_type": "code",
   "execution_count": 132,
   "metadata": {},
   "outputs": [
    {
     "data": {
      "image/png": "[encoded data removed]",
      "text/plain": [
       "<Figure size 720x432 with 1 Axes>"
      ]
     },
     "metadata": {},
     "output_type": "display_data"
    }
   ],
   "source": [
    "import seaborn as sns\n",
    "\n",
    "# Set the style\n",
    "sns.set_style('whitegrid')\n",
    "\n",
    "# Plotting the scatter plot\n",
    "plt.figure(figsize=(10, 6))\n",
    "sns.scatterplot(x='production_budget', y='worldwide_gross', data=top_10_movies_revenue, hue='movie', s=100)\n",
    "\n",
    "# Adding labels and title\n",
    "plt.xlabel('Production Budget')\n",
    "plt.ylabel('Worldwide Gross')\n",
    "plt.title('Relationship between Production Budget and Worldwide Gross')\n",
    "\n",
    "# Rotate x-axis labels for better readability\n",
    "plt.xticks(rotation=45)\n",
    "\n",
    "# Show plot\n",
    "plt.show()\n",
    "\n",
    "\n"
   ]
  },
  {
   "cell_type": "markdown",
   "metadata": {},
   "source": [
    "There is a somewhat positive relationship between the two variables. To make more gross profits, you need to invest well in the production of the movie."
   ]
  },
  {
   "cell_type": "markdown",
   "metadata": {},
   "source": [
    "# **Conclusion**"
   ]
  },
  {
   "cell_type": "markdown",
   "metadata": {},
   "source": [
    "The top ten movies with the greatest world wide gross revenue are :\n",
    "Avengers: Infinity War, Jurassic World, Furious 7, The Avengers, Avengers: Age of Ultron, Black Panther, Jurassic World: Fallen Kingdom, Frozen, Beauty and the Beast and Incredibles 2\n",
    "\n",
    "The list is shown below"
   ]
  },
  {
   "cell_type": "code",
   "execution_count": 133,
   "metadata": {},
   "outputs": [
    {
     "data": {
      "text/plain": [
       "0            Avengers: Infinity War\n",
       "1                    Jurassic World\n",
       "2                         Furious 7\n",
       "3                      The Avengers\n",
       "4           Avengers: Age of Ultron\n",
       "5                     Black Panther\n",
       "6    Jurassic World: Fallen Kingdom\n",
       "7                            Frozen\n",
       "8              Beauty and the Beast\n",
       "9                     Incredibles 2\n",
       "Name: movie, dtype: object"
      ]
     },
     "execution_count": 133,
     "metadata": {},
     "output_type": "execute_result"
    }
   ],
   "source": [
    "top_10_movies_revenue['movie']"
   ]
  },
  {
   "cell_type": "markdown",
   "metadata": {},
   "source": [
    "The top ten movies directors for the top ten movies are :Michael Bay,Christopher Nolan,Sam Mendes,Rob Marshall,J.A. Bayona,Chris Buck,Jennifer Lee,Kyle Balda,Eric Guillon,Ryan Fleck,Anna Boden,Anthony Russo,Joe Russo and Joss Whedon. The list is shown below."
   ]
  },
  {
   "cell_type": "code",
   "execution_count": 139,
   "metadata": {},
   "outputs": [
    {
     "data": {
      "text/html": [
       "<div>\n",
       "<style scoped>\n",
       "    .dataframe tbody tr th:only-of-type {\n",
       "        vertical-align: middle;\n",
       "    }\n",
       "\n",
       "    .dataframe tbody tr th {\n",
       "        vertical-align: top;\n",
       "    }\n",
       "\n",
       "    .dataframe thead th {\n",
       "        text-align: right;\n",
       "    }\n",
       "</style>\n",
       "<table border=\"1\" class=\"dataframe\">\n",
       "  <thead>\n",
       "    <tr style=\"text-align: right;\">\n",
       "      <th></th>\n",
       "      <th>production_budget</th>\n",
       "      <th>worldwide_gross</th>\n",
       "    </tr>\n",
       "  </thead>\n",
       "  <tbody>\n",
       "    <tr>\n",
       "      <th>0</th>\n",
       "      <td>300000000.0</td>\n",
       "      <td>2.048134e+09</td>\n",
       "    </tr>\n",
       "    <tr>\n",
       "      <th>1</th>\n",
       "      <td>215000000.0</td>\n",
       "      <td>1.648855e+09</td>\n",
       "    </tr>\n",
       "    <tr>\n",
       "      <th>2</th>\n",
       "      <td>190000000.0</td>\n",
       "      <td>1.518723e+09</td>\n",
       "    </tr>\n",
       "    <tr>\n",
       "      <th>3</th>\n",
       "      <td>225000000.0</td>\n",
       "      <td>1.517936e+09</td>\n",
       "    </tr>\n",
       "    <tr>\n",
       "      <th>4</th>\n",
       "      <td>330600000.0</td>\n",
       "      <td>1.403014e+09</td>\n",
       "    </tr>\n",
       "    <tr>\n",
       "      <th>5</th>\n",
       "      <td>200000000.0</td>\n",
       "      <td>1.348258e+09</td>\n",
       "    </tr>\n",
       "    <tr>\n",
       "      <th>6</th>\n",
       "      <td>170000000.0</td>\n",
       "      <td>1.305773e+09</td>\n",
       "    </tr>\n",
       "    <tr>\n",
       "      <th>7</th>\n",
       "      <td>150000000.0</td>\n",
       "      <td>1.272470e+09</td>\n",
       "    </tr>\n",
       "    <tr>\n",
       "      <th>8</th>\n",
       "      <td>160000000.0</td>\n",
       "      <td>1.259200e+09</td>\n",
       "    </tr>\n",
       "    <tr>\n",
       "      <th>9</th>\n",
       "      <td>200000000.0</td>\n",
       "      <td>1.242521e+09</td>\n",
       "    </tr>\n",
       "  </tbody>\n",
       "</table>\n",
       "</div>"
      ],
      "text/plain": [
       "   production_budget  worldwide_gross\n",
       "0        300000000.0     2.048134e+09\n",
       "1        215000000.0     1.648855e+09\n",
       "2        190000000.0     1.518723e+09\n",
       "3        225000000.0     1.517936e+09\n",
       "4        330600000.0     1.403014e+09\n",
       "5        200000000.0     1.348258e+09\n",
       "6        170000000.0     1.305773e+09\n",
       "7        150000000.0     1.272470e+09\n",
       "8        160000000.0     1.259200e+09\n",
       "9        200000000.0     1.242521e+09"
      ]
     },
     "execution_count": 139,
     "metadata": {},
     "output_type": "execute_result"
    }
   ],
   "source": [
    "top_10_movies_revenue[['production_budget', 'worldwide_gross']]"
   ]
  },
  {
   "cell_type": "code",
   "execution_count": 134,
   "metadata": {},
   "outputs": [
    {
     "data": {
      "text/plain": [
       "0                Joss Whedon\n",
       "1    Anthony Russo,Joe Russo\n",
       "2      Ryan Fleck,Anna Boden\n",
       "3    Kyle Balda,Eric Guillon\n",
       "4    Chris Buck,Jennifer Lee\n",
       "5                J.A. Bayona\n",
       "6               Rob Marshall\n",
       "7                 Sam Mendes\n",
       "8          Christopher Nolan\n",
       "9                Michael Bay\n",
       "Name: Directors, dtype: object"
      ]
     },
     "execution_count": 134,
     "metadata": {},
     "output_type": "execute_result"
    }
   ],
   "source": [
    "top_10_movie_directors['Directors']"
   ]
  },
  {
   "cell_type": "markdown",
   "metadata": {},
   "source": [
    "The gross revenue made worldwide highly depends on the budget of the movie production and the directors_writers.\n",
    "The top ten movies directors for the top ten movies are :Michael Bay,Christopher Nolan,Sam Mendes,Rob Marshall,J.A. Bayona,Chris Buck,Jennifer Lee,Kyle Balda,Eric Guillon,Ryan Fleck,Anna Boden,Anthony Russo,Joe Russo and Joss Whedon. The list is shown below."
   ]
  },
  {
   "cell_type": "code",
   "execution_count": 136,
   "metadata": {},
   "outputs": [
    {
     "data": {
      "text/plain": [
       "0                Joss Whedon\n",
       "1    Anthony Russo,Joe Russo\n",
       "2      Ryan Fleck,Anna Boden\n",
       "3    Kyle Balda,Eric Guillon\n",
       "4    Chris Buck,Jennifer Lee\n",
       "5                J.A. Bayona\n",
       "6               Rob Marshall\n",
       "7                 Sam Mendes\n",
       "8          Christopher Nolan\n",
       "9                Michael Bay\n",
       "Name: Directors, dtype: object"
      ]
     },
     "execution_count": 136,
     "metadata": {},
     "output_type": "execute_result"
    }
   ],
   "source": [
    "top_10_movie_directors['Directors']"
   ]
  },
  {
   "cell_type": "markdown",
   "metadata": {},
   "source": [
    "The top ten movie genres are :Action,Adventure,Sci-fi,Thriller,Crime,Animation,Comedy,Family,Fantasy and Musical.The list is shown below."
   ]
  },
  {
   "cell_type": "code",
   "execution_count": 140,
   "metadata": {},
   "outputs": [
    {
     "data": {
      "text/plain": [
       "['Action',\n",
       " 'Adventure',\n",
       " 'Sci-Fi',\n",
       " 'Crime',\n",
       " 'Thriller',\n",
       " 'Animation',\n",
       " 'Comedy',\n",
       " 'Family',\n",
       " 'Fantasy',\n",
       " 'Musical']"
      ]
     },
     "execution_count": 140,
     "metadata": {},
     "output_type": "execute_result"
    }
   ],
   "source": [
    "list(genre_counts.keys())"
   ]
  },
  {
   "cell_type": "markdown",
   "metadata": {},
   "source": [
    "The mean production budget is $214,060,000 as shown in the variable 'mean_production_budget' below while the mean worldwide gross revenue is $1,456,488,306.8"
   ]
  },
  {
   "cell_type": "code",
   "execution_count": 142,
   "metadata": {},
   "outputs": [
    {
     "name": "stdout",
     "output_type": "stream",
     "text": [
      "mean budget:  214060000.0\n",
      "mean revenue:  1456488306.8\n"
     ]
    }
   ],
   "source": [
    "print ('mean budget: ' , mean_production_budget)\n",
    "print ('mean revenue: ', top_10_movies_revenue['worldwide_gross'].mean())"
   ]
  },
  {
   "cell_type": "markdown",
   "metadata": {},
   "source": [
    "# **Recommendations**\n"
   ]
  },
  {
   "cell_type": "markdown",
   "metadata": {},
   "source": [
    "Creating the inaugural movie within the top three genres - Action, Adventure, and Sci-Fi - is advised to maximize profitability. Additionally, genres like Crime, Thriller, and Animation show promising returns, while Comedy, Family, Fantasy, and Musical genres tend to yield lower profits. Focusing on these genres could lead to significant benefits for the upcoming movie studio.\n",
    "\n",
    "Based on recent data analysis, the recommended production budget is approximately $214,060,000, derived from the mean values of the top ten most profitable movies. Adhering to this budget guideline ensures that the expenditure on new movie production is unlikely to surpass the revenue generated.\n",
    "\n",
    "However, ne has to put into consideration that the production budget given corelates to the overall worldwide revenue of that movie.\n",
    "\n",
    "It is suggested to hire directors such as Michael Bay, Christopher Nolan, Sam Mendes, Rob Marshall, J.A. Bayona, Chris Buck, Jennifer Lee, Kyle Balda, Eric Guillon, Ryan Fleck, Anna Boden, Anthony Russo, Joe Russo, and Joss Whedon. These directors have demonstrated their exceptional skills through their involvement in the creation of some of the top ten most profitable films. Collaborating with such esteemed directors can elevate the quality of original films produced by the new movie studio.\n",
    "\n",
    "Project by: Grace Rotich\n",
    "\n",
    "Email: grace.rotich@student.moringaschool.com\n",
    "\n",
    "Enail2: gracerotichjj@gmail.com"
   ]
  }
 ],
 "metadata": {
  "kernelspec": {
   "display_name": "Python 3",
   "language": "python",
   "name": "python3"
  },
  "language_info": {
   "codemirror_mode": {
    "name": "ipython",
    "version": 3
   },
   "file_extension": ".py",
   "mimetype": "text/x-python",
   "name": "python",
   "nbconvert_exporter": "python",
   "pygments_lexer": "ipython3",
   "version": "3.8.5"
  }
 },
 "nbformat": 4,
 "nbformat_minor": 2
}
